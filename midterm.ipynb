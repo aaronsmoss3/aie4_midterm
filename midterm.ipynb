{
 "cells": [
  {
   "cell_type": "code",
   "execution_count": null,
   "metadata": {},
   "outputs": [],
   "source": [
    "# pip install -r requirements_doc.txt "
   ]
  },
  {
   "cell_type": "code",
   "execution_count": 11,
   "metadata": {},
   "outputs": [],
   "source": [
    "import re\n",
    "from langchain_experimental.text_splitter import SemanticChunker\n",
    "from langchain.text_splitter import RecursiveCharacterTextSplitter\n",
    "from langchain_openai.embeddings import OpenAIEmbeddings"
   ]
  },
  {
   "cell_type": "code",
   "execution_count": 12,
   "metadata": {},
   "outputs": [],
   "source": [
    "import os\n",
    "import getpass\n",
    "\n",
    "os.environ[\"OPENAI_API_KEY\"] = getpass.getpass(\"Enter your OpenAI API Key:\")"
   ]
  },
  {
   "cell_type": "markdown",
   "metadata": {},
   "source": [
    "## Load documents"
   ]
  },
  {
   "cell_type": "code",
   "execution_count": 19,
   "metadata": {},
   "outputs": [],
   "source": [
    "import fitz  # PyMuPDF\n",
    "import os\n",
    "\n",
    "def extract_images_and_tables_from_pdf(pdf_path, output_dir):\n",
    "    # Ensure the output directories for images and tables exist\n",
    "    image_dir = os.path.join(output_dir, 'images')\n",
    "    table_dir = os.path.join(output_dir, 'tables')\n",
    "    os.makedirs(image_dir, exist_ok=True)\n",
    "    os.makedirs(table_dir, exist_ok=True)\n",
    "    \n",
    "    # Open the PDF\n",
    "    doc = fitz.open(pdf_path)\n",
    "    \n",
    "    extracted_content = []\n",
    "    \n",
    "    for page_num in range(len(doc)):\n",
    "        page = doc.load_page(page_num)\n",
    "        images = page.get_images(full=True)\n",
    "        \n",
    "        # Extract images\n",
    "        for img_index, img in enumerate(images):\n",
    "            xref = img[0]\n",
    "            base_image = doc.extract_image(xref)\n",
    "            image_bytes = base_image[\"image\"]\n",
    "            image_ext = base_image[\"ext\"]\n",
    "            image_path = f\"{image_dir}/image_{page_num + 1}_{img_index}.{image_ext}\"\n",
    "            \n",
    "            # Save the image\n",
    "            with open(image_path, \"wb\") as img_file:\n",
    "                img_file.write(image_bytes)\n",
    "                \n",
    "            # Store extracted image metadata\n",
    "            extracted_content.append({\n",
    "                'content_id': f'regulation_{xref}_image_{img_index}',\n",
    "                'content_type': 'Image',\n",
    "                'hierarchy_level': 'Figure',\n",
    "                'page_number': page_num + 1,\n",
    "                'bbox': img[2:6],\n",
    "                'text': None,\n",
    "                'image_path': image_path,\n",
    "                'table_path': None,\n",
    "                'associated_text_id': None  # Modify if you have a way to link this with text\n",
    "            })\n",
    "        \n",
    "        # Extract tables if applicable\n",
    "        text = page.get_text(\"text\")\n",
    "        tables = extract_tables_from_page(page)  # This function would extract tables if needed\n",
    "        for table_index, table in enumerate(tables):\n",
    "            table_path = f\"{table_dir}/table_{page_num + 1}_{table_index}.txt\"\n",
    "            with open(table_path, \"w\") as table_file:\n",
    "                table_file.write(table)  # Save the table as text\n",
    "            \n",
    "            # Store extracted table metadata\n",
    "            extracted_content.append({\n",
    "                'content_id': f'regulation_{page_num + 1}_table_{table_index}',\n",
    "                'content_type': 'Table',\n",
    "                'hierarchy_level': 'Table',\n",
    "                'page_number': page_num + 1,\n",
    "                'bbox': None,\n",
    "                'text': None,\n",
    "                'image_path': None,\n",
    "                'table_path': table_path,\n",
    "                'associated_text_id': None\n",
    "            })\n",
    "    \n",
    "    doc.close()\n",
    "    return extracted_content\n",
    "\n",
    "def extract_tables_from_page(page):\n",
    "    # Implement logic to extract tables from the page\n",
    "    # This function should return a list of table data from the page\n",
    "    # You can use regex or a table extraction tool\n",
    "    tables = []\n",
    "    # Add table extraction logic here\n",
    "    return tables"
   ]
  },
  {
   "cell_type": "code",
   "execution_count": 17,
   "metadata": {},
   "outputs": [],
   "source": [
    "wh_link = 'https://www.whitehouse.gov/wp-content/uploads/2022/10/Blueprint-for-an-AI-Bill-of-Rights.pdf'\n",
    "nist_link = 'https://nvlpubs.nist.gov/nistpubs/ai/NIST.AI.600-1.pdf'"
   ]
  },
  {
   "cell_type": "code",
   "execution_count": 18,
   "metadata": {},
   "outputs": [],
   "source": [
    "from langchain_community.document_loaders import PyMuPDFLoader\n",
    "\n",
    "wh_documents = PyMuPDFLoader(file_path=wh_link).load()\n",
    "nist_docments = PyMuPDFLoader(file_path=nist_link).load()"
   ]
  },
  {
   "cell_type": "markdown",
   "metadata": {},
   "source": [
    "from langchain.text_splitter import RecursiveCharacterTextSplitter\n",
    "\n",
    "text_splitter = RecursiveCharacterTextSplitter(\n",
    "    chunk_size = 1000,\n",
    "    chunk_overlap = 100,\n",
    "    length_function = len,\n",
    ")\n",
    "\n",
    "wh_split_chunks = text_splitter.split_documents(wh_documents)"
   ]
  },
  {
   "cell_type": "markdown",
   "metadata": {},
   "source": [
    "wh_split_chunks[2].page_content"
   ]
  },
  {
   "cell_type": "markdown",
   "metadata": {},
   "source": [
    "nist_split_chunks = text_splitter.split_documents(nist_docments)"
   ]
  },
  {
   "cell_type": "markdown",
   "metadata": {},
   "source": [
    "### 1. Section-based chunking"
   ]
  },
  {
   "cell_type": "code",
   "execution_count": 20,
   "metadata": {},
   "outputs": [],
   "source": [
    "\n",
    "def chunk_pdf_with_sections(doc, sections):\n",
    "    \"\"\"\n",
    "    Chunk a PDF by pages and embed section headers for each chunk.\n",
    "\n",
    "    Parameters:\n",
    "    - doc: The loaded PDF document using PyMuPDF.\n",
    "    - sections: Dictionary mapping section names to page ranges.\n",
    "\n",
    "    Returns:\n",
    "    - section_chunks: List of dictionaries with page number, section name, and text chunks.\n",
    "    \"\"\"\n",
    "    section_chunks = []\n",
    "\n",
    "    # Loop through each section\n",
    "    for section, pages in sections.items():\n",
    "        for page_num in pages:\n",
    "            #page = doc.load_page(page_num)\n",
    "            page_text =  doc[page_num].page_content\n",
    "            \n",
    "            # Store each page as a chunk with section info\n",
    "            chunk = {\n",
    "                \"section\": section,\n",
    "                #\"page_num\": page_num + 1,  # Adjusting for 0-based indexing\n",
    "                \"content\": f\"SECTION: {section}\\n{page_text}\"\n",
    "            }\n",
    "            section_chunks.append(chunk)\n",
    "    \n",
    "    return section_chunks"
   ]
  },
  {
   "cell_type": "code",
   "execution_count": 21,
   "metadata": {},
   "outputs": [],
   "source": [
    "# Function to process the text from page 4 onward\n",
    "def extract_full_text_from_pages(doc, start_page=4):\n",
    "    full_text = \"\"\n",
    "    for page_num in range(start_page, len(doc)):\n",
    "        full_text += doc[page_num].page_content\n",
    "    return full_text"
   ]
  },
  {
   "cell_type": "code",
   "execution_count": 22,
   "metadata": {},
   "outputs": [],
   "source": [
    "nist_sections = [\n",
    "    \"\\n1. \\nIntroduction\",  # Starts at page 4 (index 0) and ends before page 2 (index 1)\n",
    "    \"\\n2. \\nOverview of Risks Unique to or Exacerbated by GAI\",  # Starts at page 5, ends before page 8\n",
    "    \"\\n2.1. CBRN Information or Capabilities\",  # Page 8 only\n",
    "    \"\\n2.2. Confabulation\",  # Page 9 only\n",
    "    \"\\n2.3. Dangerous, Violent, or Hateful Content\",  # Page 9 & 10 only\n",
    "    \"\\n2.4. Data Privacy\",  # Page 10 & 11 only\n",
    "    \"\\n2.5. Environmental Impacts\",  # Page 11 only\n",
    "    \"\\n2.6. Harmful Bias and Homogenization\",  # Page 11 & 12 \n",
    "    \"\\n2.7. Human-Al Configuration\",  # Page 12 only\n",
    "    \"\\n2.8. Information Integrity\",  # Page 12 & 13 only\n",
    "    \"\\n2.9. Information Security\",  # Page 13 & 14 only\n",
    "    \"\\n2.10. \\nIntellectual Property\",  # Page 14 only\n",
    "    \"\\n2.11. \\nObscene, Degrading, and/or Abusive Content\",  # Page 14 & 15 only\n",
    "    \"\\n2.12. \\nValue Chain and Component Integration\",  # Page 15 only\n",
    "    \"\\n3. Suggested Actions to Manage GAI Risks\",  # Starts at page 15 to 49\n",
    "    \"Appendix A. Primary GAI Considerations\",  # Starts at page 50 to 56\n",
    "    \"Appendix B. References\" # 57 to 63\n",
    "]"
   ]
  },
  {
   "cell_type": "code",
   "execution_count": 23,
   "metadata": {},
   "outputs": [],
   "source": [
    "wh_sections = {\n",
    "    \"USING THIS TECHNICAL COMPANION\": [13],\n",
    "    \"SAFE AND EFFECTIVE SYSTEMS\": list(range(14, 22)),\n",
    "    \"ALGORITHMIC DISCRIMINATION PROTECTIONS\": list(range(22, 29)),\n",
    "    \"DATA PRIVACY\": list(range(29, 39)),\n",
    "    \"NOTICE AND EXPLANATION\": list(range(39, 45)),\n",
    "    \"HUMAN ALTERNATIVES, CONSIDERATION, AND FALLBACK\": list(range(45, 52)),\n",
    "    \"APPENDIX: EXAMPLES OF AUTOMATED SYSTEMS\": [52, 53],\n",
    "    \"LISTENING TO THE AMERICAN PEOPLE\": list(range(54, 62)),\n",
    "    \"ENDNOTES\": list(range(62, 73))\n",
    "}"
   ]
  },
  {
   "cell_type": "code",
   "execution_count": 24,
   "metadata": {},
   "outputs": [],
   "source": [
    "full_text = extract_full_text_from_pages(nist_docments, start_page=4)\n",
    "chunks = {}\n",
    "pattern = \"|\".join([re.escape(section) for section in nist_sections])\n",
    "# Split text based on the pattern\n",
    "sections = re.split(f'({pattern})', full_text)\n",
    "nist_chunks = {sections[1:][i]: sections[1:][i + 1] for i in range(0, len(sections[1:]), 2)}"
   ]
  },
  {
   "cell_type": "code",
   "execution_count": 25,
   "metadata": {},
   "outputs": [],
   "source": [
    "wh_chunks = chunk_pdf_with_sections(wh_documents, wh_sections)"
   ]
  },
  {
   "cell_type": "markdown",
   "metadata": {},
   "source": [
    "### Task 1: Review the two PDFs and decide how best to chunk up the data with a single strategy to optimally answer the variety of questions you expect to receive from people."
   ]
  },
  {
   "cell_type": "markdown",
   "metadata": {},
   "source": [
    "#### Deliverables\n",
    "\n",
    "* Describe the default chunking strategy that you will use. \n",
    "\n",
    "     * After reviewing pdfs, I wanted to maintain the sections or headers of the documents. In order to execute this method, I found the sections via table of contents in each pdf. Then I used functions that found the regex pattern to associate section to content.\n",
    "\n",
    "* Articulate a chunking strategy that you would also like to test out.\n",
    "\n",
    "     * The alternative strategy will be section-based chunks plus semantic chunking. \n",
    "\n",
    "* Describe how and why you made these decisions\n",
    "\n",
    "     * In order to maintain the sections or headers of the documents, I found the sections via table of contents in each pdf and converted in syntax (dict or list). Then I used functions that found the regex pattern (nist_docs) or page_num (wh_paper) to associate section to content. Due to the low N of source docs, I was able to execute static rules (regex or page_num) that will work for the sample. These approaches will have difficulty being replicated if new samples were provided. In future, using headers to chunk with around sections may be viable."
   ]
  },
  {
   "cell_type": "markdown",
   "metadata": {},
   "source": [
    "### Chunking Strategy 1: Section-based chunks"
   ]
  },
  {
   "cell_type": "markdown",
   "metadata": {},
   "source": [
    "#### Format into Document object"
   ]
  },
  {
   "cell_type": "code",
   "execution_count": 27,
   "metadata": {},
   "outputs": [],
   "source": [
    "from langchain_core.documents import Document"
   ]
  },
  {
   "cell_type": "code",
   "execution_count": 28,
   "metadata": {},
   "outputs": [],
   "source": [
    "def process_nist_chunks(nist_chunks):\n",
    "    # This function processes the nist_chunks dictionary.\n",
    "    documents = []\n",
    "    for section_name, page_content in nist_chunks.items():\n",
    "        doc = Document(page_content=page_content, metadata={'section': section_name})\n",
    "        documents.append(doc)\n",
    "    return documents\n",
    "\n",
    "def process_wh_chunks(wh_chunks):\n",
    "    # This function processes the wh_chunks list of dictionaries.\n",
    "    documents = []\n",
    "    for chunk in wh_chunks:\n",
    "        section_name = chunk['section']\n",
    "        page_content = chunk['content']\n",
    "        doc = Document(page_content=page_content, metadata={'section': section_name})\n",
    "        documents.append(doc)\n",
    "    return documents"
   ]
  },
  {
   "cell_type": "code",
   "execution_count": 29,
   "metadata": {},
   "outputs": [],
   "source": [
    "nist_docs = process_nist_chunks(nist_chunks)"
   ]
  },
  {
   "cell_type": "code",
   "execution_count": 30,
   "metadata": {},
   "outputs": [],
   "source": [
    "wh_docs= process_wh_chunks(wh_chunks)"
   ]
  },
  {
   "cell_type": "markdown",
   "metadata": {},
   "source": [
    "#### Combine wh_docs and nist_docs document objects into one section-based Document"
   ]
  },
  {
   "cell_type": "code",
   "execution_count": 33,
   "metadata": {},
   "outputs": [],
   "source": [
    "full_docs = wh_docs + nist_docs"
   ]
  },
  {
   "cell_type": "markdown",
   "metadata": {},
   "source": [
    "### Chunking Strategy 2: Section (page or topic) + Semantic Chunking (Sentence-level for semantic similarity chunk points)"
   ]
  },
  {
   "cell_type": "code",
   "execution_count": 44,
   "metadata": {},
   "outputs": [],
   "source": [
    "base_text_splitter = SemanticChunker(OpenAIEmbeddings())\n",
    "sem_documents = base_text_splitter.split_documents(full_docs) # 2 min "
   ]
  },
  {
   "cell_type": "code",
   "execution_count": 91,
   "metadata": {},
   "outputs": [
    {
     "data": {
      "text/plain": [
       "75"
      ]
     },
     "execution_count": 91,
     "metadata": {},
     "output_type": "execute_result"
    }
   ],
   "source": [
    "len(full_docs)"
   ]
  },
  {
   "cell_type": "code",
   "execution_count": 90,
   "metadata": {},
   "outputs": [
    {
     "data": {
      "text/plain": [
       "228"
      ]
     },
     "execution_count": 90,
     "metadata": {},
     "output_type": "execute_result"
    }
   ],
   "source": [
    "len(sem_documents)"
   ]
  },
  {
   "cell_type": "code",
   "execution_count": 93,
   "metadata": {},
   "outputs": [],
   "source": [
    "from  langchain.schema import Document\n",
    "import json\n",
    "from typing import Iterable\n",
    "\n",
    "def save_docs_to_jsonl(array:Iterable[Document], file_path:str)->None:\n",
    "    with open(file_path, 'w') as jsonl_file:\n",
    "        for doc in array:\n",
    "            jsonl_file.write(doc.json() + '\\n')\n",
    "\n",
    "def load_docs_from_jsonl(file_path)->Iterable[Document]:\n",
    "    array = []\n",
    "    with open(file_path, 'r') as jsonl_file:\n",
    "        for line in jsonl_file:\n",
    "            data = json.loads(line)\n",
    "            obj = Document(**data)\n",
    "            array.append(obj)\n",
    "    return array\n",
    "    \n"
   ]
  },
  {
   "cell_type": "code",
   "execution_count": 129,
   "metadata": {},
   "outputs": [],
   "source": [
    "## used to transfer file to google colab for ft artic embed model\n",
    "save_docs_to_jsonl(sem_documents,'sem_documents.jsonl')"
   ]
  },
  {
   "cell_type": "markdown",
   "metadata": {},
   "source": [
    "## Embedding chunks"
   ]
  },
  {
   "cell_type": "code",
   "execution_count": 45,
   "metadata": {},
   "outputs": [],
   "source": [
    "from langchain_openai import OpenAIEmbeddings\n",
    "\n",
    "#embeddings = OpenAIEmbeddings(model=\"text-embedding-3-small\")\n",
    "\n",
    "embeddings_lg = OpenAIEmbeddings(model=\"text-embedding-3-large\")"
   ]
  },
  {
   "cell_type": "code",
   "execution_count": 46,
   "metadata": {},
   "outputs": [],
   "source": [
    "from langchain_community.vectorstores import Qdrant\n",
    "\n",
    "vectorstore = Qdrant.from_documents(\n",
    "    documents=full_docs,\n",
    "    embedding=embeddings_lg,\n",
    "    location=\":memory:\",\n",
    "    collection_name=\"ai_policy\"\n",
    ")\n",
    "retriever = vectorstore.as_retriever()"
   ]
  },
  {
   "cell_type": "code",
   "execution_count": 47,
   "metadata": {},
   "outputs": [],
   "source": [
    "vectorstore_1 = Qdrant.from_documents(\n",
    "    documents=sem_documents,\n",
    "    embedding=embeddings_lg,\n",
    "    location=\":memory:\",\n",
    "    collection_name=\"alt_ai_policy\"\n",
    ")\n",
    "alt_retriever = vectorstore_1.as_retriever()"
   ]
  },
  {
   "cell_type": "markdown",
   "metadata": {},
   "source": [
    "### RAG_chain"
   ]
  },
  {
   "cell_type": "code",
   "execution_count": 48,
   "metadata": {},
   "outputs": [],
   "source": [
    "from langchain_openai import ChatOpenAI\n",
    "from langchain.prompts import ChatPromptTemplate\n",
    "\n",
    "## Generation LLM\n",
    "llm = ChatOpenAI(model=\"gpt-4o\")"
   ]
  },
  {
   "cell_type": "code",
   "execution_count": 49,
   "metadata": {},
   "outputs": [],
   "source": [
    "from langchain.prompts import ChatPromptTemplate\n",
    "\n",
    "RAG_PROMPT = \"\"\"\\\n",
    "Given a provided context and question, you must answer the question based only on context.\n",
    "\n",
    "Context: {context}\n",
    "Question: {question}\n",
    "\"\"\"\n",
    "\n",
    "rag_prompt = ChatPromptTemplate.from_template(RAG_PROMPT)"
   ]
  },
  {
   "cell_type": "markdown",
   "metadata": {},
   "source": [
    "### LCEL chain for each different method\n",
    "\n",
    "#### * rag_chain: with section-based chunking only\n",
    "\n",
    "#### * retrieval_augmented_qa_chain: with section chunks + SemanticChunker at sentence-level processing"
   ]
  },
  {
   "cell_type": "code",
   "execution_count": 118,
   "metadata": {},
   "outputs": [],
   "source": [
    "from operator import itemgetter\n",
    "from langchain_core.runnables import RunnablePassthrough, RunnableParallel\n",
    "from langchain.schema import StrOutputParser"
   ]
  },
  {
   "cell_type": "code",
   "execution_count": 119,
   "metadata": {},
   "outputs": [],
   "source": [
    "base_retrieval_augmented_qa_chain = (\n",
    "    {\"context\": itemgetter(\"question\") | retriever, \"question\": itemgetter(\"question\")}\n",
    "    | RunnablePassthrough.assign(context=itemgetter(\"context\"))\n",
    "    | {\"response\": rag_prompt | llm, \"context\": itemgetter(\"context\")}\n",
    ")"
   ]
  },
  {
   "cell_type": "code",
   "execution_count": 55,
   "metadata": {},
   "outputs": [],
   "source": [
    "retrieval_augmented_qa_chain = (\n",
    "    # INVOKE CHAIN WITH: {\"question\" : \"<<SOME USER QUESTION>>\"}\n",
    "    # \"question\" : populated by getting the value of the \"question\" key\n",
    "    # \"context\"  : populated by getting the value of the \"question\" key and chaining it into the base_retriever\n",
    "    {\"context\": itemgetter(\"question\") | alt_retriever, \"question\": itemgetter(\"question\")}\n",
    "    # \"context\"  : is assigned to a RunnablePassthrough object (will not be called or considered in the next step)\n",
    "    #              by getting the value of the \"context\" key from the previous step\n",
    "    | RunnablePassthrough.assign(context=itemgetter(\"context\"))\n",
    "    # \"response\" : the \"context\" and \"question\" values are used to format our prompt object and then piped\n",
    "    #              into the LLM and stored in a key called \"response\"\n",
    "    # \"context\"  : populated by getting the value of the \"context\" key from the previous step\n",
    "    | {\"response\": rag_prompt | llm, \"context\": itemgetter(\"context\")}\n",
    ")"
   ]
  },
  {
   "cell_type": "code",
   "execution_count": 134,
   "metadata": {},
   "outputs": [
    {
     "data": {
      "text/plain": [
       "AIMessage(content='The AI Risk Management Framework (AI RMF) is intended to improve the ability of organizations to incorporate trustworthiness considerations into the design, development, use, and evaluation of AI products, services, and systems. Released in January 2023, it is a voluntary framework developed by the National Institute of Standards and Technology (NIST) in response to President Biden’s Executive Order 14110. The framework helps organizations manage AI risks in a manner that aligns with their goals, legal/regulatory requirements, and best practices. It covers various stages of the AI lifecycle and includes considerations for generative AI, such as governance, content provenance, pre-deployment testing, and incident disclosure. The framework aims to foster the development of trustworthy AI characterized by accuracy, explainability, reliability, privacy, robustness, safety, security, and fairness.', additional_kwargs={'refusal': None}, response_metadata={'token_usage': {'completion_tokens': 166, 'prompt_tokens': 3314, 'total_tokens': 3480, 'completion_tokens_details': {'reasoning_tokens': 0}}, 'model_name': 'gpt-4o-2024-05-13', 'system_fingerprint': 'fp_52a7f40b0b', 'finish_reason': 'stop', 'logprobs': None}, id='run-53c4408b-7a7d-4c61-8fc4-e285a5a3f9c9-0', usage_metadata={'input_tokens': 3314, 'output_tokens': 166, 'total_tokens': 3480})"
      ]
     },
     "execution_count": 134,
     "metadata": {},
     "output_type": "execute_result"
    }
   ],
   "source": [
    "base_retrieval_augmented_qa_chain.invoke({\"question\" : \"What is the AI framework all about?\"})['response']"
   ]
  },
  {
   "cell_type": "code",
   "execution_count": 135,
   "metadata": {},
   "outputs": [
    {
     "data": {
      "text/plain": [
       "AIMessage(content='The AI framework appears to be the \"AI Risk Management Framework\" developed by the National Institute of Standards and Technology (NIST). It includes several chapters and appendices detailing various aspects of AI risks and trustworthiness, profiles, descriptions of AI actor tasks, and comparisons of AI risks to traditional software risks. The framework also features a playbook and a glossary of terms related to trustworthy AI. The framework aims to address and manage risks associated with AI systems comprehensively.', additional_kwargs={'refusal': None}, response_metadata={'token_usage': {'completion_tokens': 93, 'prompt_tokens': 1891, 'total_tokens': 1984, 'completion_tokens_details': {'reasoning_tokens': 0}}, 'model_name': 'gpt-4o-2024-05-13', 'system_fingerprint': 'fp_e375328146', 'finish_reason': 'stop', 'logprobs': None}, id='run-f6b34af4-7bcc-4873-85d1-3febe8b4aa0c-0', usage_metadata={'input_tokens': 1891, 'output_tokens': 93, 'total_tokens': 1984})"
      ]
     },
     "execution_count": 135,
     "metadata": {},
     "output_type": "execute_result"
    }
   ],
   "source": [
    "## adds context and response keys to result object\n",
    "retrieval_augmented_qa_chain.invoke({\"question\" : \"What is the AI framework all about?\"})['response']"
   ]
  },
  {
   "cell_type": "markdown",
   "metadata": {},
   "source": [
    "# Task 2"
   ]
  },
  {
   "cell_type": "markdown",
   "metadata": {},
   "source": [
    "### Build an end-to-end RAG application using an industry-standard open-source stack and your choice of commercial off-the-shelf models"
   ]
  },
  {
   "cell_type": "markdown",
   "metadata": {},
   "source": [
    "Build a prototype and deploy to a Hugging Face Space, and include the public URL link to your space  create a short (< 2 min) loom video demonstrating some initial testing inputs and outputs."
   ]
  },
  {
   "cell_type": "markdown",
   "metadata": {},
   "source": [
    " * https://huggingface.co/spaces/aaromosshf2424/midterm_aie4"
   ]
  },
  {
   "cell_type": "markdown",
   "metadata": {},
   "source": [
    "* Loom video link https://www.loom.com/share/701153f9d7234883aad5df9a5621a6ca?sid=d3b24367-41d1-4155-a06c-f73376801ab2"
   ]
  },
  {
   "cell_type": "markdown",
   "metadata": {},
   "source": [
    "How did you choose your stack, and why did you select each tool the way you did?\n",
    "\n",
    "* Docker to containerize the model & app. Why: Self-sustained version of the model and requirements that can be published.\n",
    "\n",
    "* Chainlit was used to allow for interaction between user, their query, and model functionality.\n",
    "\n",
    "* Qdrant is the vectorDb to store embeddings that are created from the doc chunks\n",
    "\n",
    "* Embedding model: OpenAI is used to build embeddings model \"text-embedding-3-large\"\n",
    "\n",
    "* HuggingFace was used to host model (Open API)\n",
    "\n",
    "* OpenAI 4o is the Generating LLM API using the user query and context chunks\n",
    "\n",
    "* Langchain was used for orchestration across OpenAI API, Qdrant, etc"
   ]
  },
  {
   "cell_type": "markdown",
   "metadata": {},
   "source": [
    "## Task 3: Creating a Golden Test Data Set"
   ]
  },
  {
   "cell_type": "markdown",
   "metadata": {},
   "source": [
    "Generate a synthetic test data set and baseline an initial evaluation"
   ]
  },
  {
   "cell_type": "markdown",
   "metadata": {},
   "source": [
    "#### pip install ragas"
   ]
  },
  {
   "cell_type": "code",
   "execution_count": 36,
   "metadata": {},
   "outputs": [
    {
     "name": "stdout",
     "output_type": "stream",
     "text": [
      "Collecting ragas\n",
      "  Using cached ragas-0.1.20-py3-none-any.whl.metadata (5.5 kB)\n",
      "Requirement already satisfied: numpy in /opt/homebrew/Caskroom/miniforge/base/envs/llmops-course/lib/python3.11/site-packages (from ragas) (1.26.4)\n",
      "Collecting datasets (from ragas)\n",
      "  Using cached datasets-3.0.0-py3-none-any.whl.metadata (19 kB)\n",
      "Requirement already satisfied: tiktoken in /opt/homebrew/Caskroom/miniforge/base/envs/llmops-course/lib/python3.11/site-packages (from ragas) (0.7.0)\n",
      "Requirement already satisfied: langchain in /opt/homebrew/Caskroom/miniforge/base/envs/llmops-course/lib/python3.11/site-packages (from ragas) (0.2.16)\n",
      "Requirement already satisfied: langchain-core<0.3 in /opt/homebrew/Caskroom/miniforge/base/envs/llmops-course/lib/python3.11/site-packages (from ragas) (0.2.41)\n",
      "Requirement already satisfied: langchain-community in /opt/homebrew/Caskroom/miniforge/base/envs/llmops-course/lib/python3.11/site-packages (from ragas) (0.2.17)\n",
      "Requirement already satisfied: langchain-openai in /opt/homebrew/Caskroom/miniforge/base/envs/llmops-course/lib/python3.11/site-packages (from ragas) (0.1.25)\n",
      "Requirement already satisfied: openai>1 in /opt/homebrew/Caskroom/miniforge/base/envs/llmops-course/lib/python3.11/site-packages (from ragas) (1.46.1)\n",
      "Collecting pysbd>=0.3.4 (from ragas)\n",
      "  Using cached pysbd-0.3.4-py3-none-any.whl.metadata (6.1 kB)\n",
      "Requirement already satisfied: nest-asyncio in /opt/homebrew/Caskroom/miniforge/base/envs/llmops-course/lib/python3.11/site-packages (from ragas) (1.6.0)\n",
      "Collecting appdirs (from ragas)\n",
      "  Using cached appdirs-1.4.4-py2.py3-none-any.whl.metadata (9.0 kB)\n",
      "Requirement already satisfied: PyYAML>=5.3 in /opt/homebrew/Caskroom/miniforge/base/envs/llmops-course/lib/python3.11/site-packages (from langchain-core<0.3->ragas) (6.0.2)\n",
      "Requirement already satisfied: jsonpatch<2.0,>=1.33 in /opt/homebrew/Caskroom/miniforge/base/envs/llmops-course/lib/python3.11/site-packages (from langchain-core<0.3->ragas) (1.33)\n",
      "Requirement already satisfied: langsmith<0.2.0,>=0.1.112 in /opt/homebrew/Caskroom/miniforge/base/envs/llmops-course/lib/python3.11/site-packages (from langchain-core<0.3->ragas) (0.1.125)\n",
      "Requirement already satisfied: packaging<25,>=23.2 in /opt/homebrew/Caskroom/miniforge/base/envs/llmops-course/lib/python3.11/site-packages (from langchain-core<0.3->ragas) (23.2)\n",
      "Requirement already satisfied: pydantic<3,>=1 in /opt/homebrew/Caskroom/miniforge/base/envs/llmops-course/lib/python3.11/site-packages (from langchain-core<0.3->ragas) (2.9.2)\n",
      "Requirement already satisfied: tenacity!=8.4.0,<9.0.0,>=8.1.0 in /opt/homebrew/Caskroom/miniforge/base/envs/llmops-course/lib/python3.11/site-packages (from langchain-core<0.3->ragas) (8.5.0)\n",
      "Requirement already satisfied: typing-extensions>=4.7 in /opt/homebrew/Caskroom/miniforge/base/envs/llmops-course/lib/python3.11/site-packages (from langchain-core<0.3->ragas) (4.12.2)\n",
      "Requirement already satisfied: anyio<5,>=3.5.0 in /opt/homebrew/Caskroom/miniforge/base/envs/llmops-course/lib/python3.11/site-packages (from openai>1->ragas) (3.7.1)\n",
      "Requirement already satisfied: distro<2,>=1.7.0 in /opt/homebrew/Caskroom/miniforge/base/envs/llmops-course/lib/python3.11/site-packages (from openai>1->ragas) (1.9.0)\n",
      "Requirement already satisfied: httpx<1,>=0.23.0 in /opt/homebrew/Caskroom/miniforge/base/envs/llmops-course/lib/python3.11/site-packages (from openai>1->ragas) (0.24.1)\n",
      "Requirement already satisfied: jiter<1,>=0.4.0 in /opt/homebrew/Caskroom/miniforge/base/envs/llmops-course/lib/python3.11/site-packages (from openai>1->ragas) (0.5.0)\n",
      "Requirement already satisfied: sniffio in /opt/homebrew/Caskroom/miniforge/base/envs/llmops-course/lib/python3.11/site-packages (from openai>1->ragas) (1.3.1)\n",
      "Requirement already satisfied: tqdm>4 in /opt/homebrew/Caskroom/miniforge/base/envs/llmops-course/lib/python3.11/site-packages (from openai>1->ragas) (4.66.5)\n",
      "Collecting filelock (from datasets->ragas)\n",
      "  Using cached filelock-3.16.1-py3-none-any.whl.metadata (2.9 kB)\n",
      "Collecting pyarrow>=15.0.0 (from datasets->ragas)\n",
      "  Using cached pyarrow-17.0.0-cp311-cp311-macosx_11_0_arm64.whl.metadata (3.3 kB)\n",
      "Collecting dill<0.3.9,>=0.3.0 (from datasets->ragas)\n",
      "  Using cached dill-0.3.8-py3-none-any.whl.metadata (10 kB)\n",
      "Collecting pandas (from datasets->ragas)\n",
      "  Using cached pandas-2.2.3-cp311-cp311-macosx_11_0_arm64.whl.metadata (89 kB)\n",
      "Requirement already satisfied: requests>=2.32.2 in /opt/homebrew/Caskroom/miniforge/base/envs/llmops-course/lib/python3.11/site-packages (from datasets->ragas) (2.32.3)\n",
      "Collecting xxhash (from datasets->ragas)\n",
      "  Using cached xxhash-3.5.0-cp311-cp311-macosx_11_0_arm64.whl.metadata (12 kB)\n",
      "Collecting multiprocess (from datasets->ragas)\n",
      "  Using cached multiprocess-0.70.16-py311-none-any.whl.metadata (7.2 kB)\n",
      "Collecting fsspec<=2024.6.1,>=2023.1.0 (from fsspec[http]<=2024.6.1,>=2023.1.0->datasets->ragas)\n",
      "  Using cached fsspec-2024.6.1-py3-none-any.whl.metadata (11 kB)\n",
      "Requirement already satisfied: aiohttp in /opt/homebrew/Caskroom/miniforge/base/envs/llmops-course/lib/python3.11/site-packages (from datasets->ragas) (3.10.5)\n",
      "Collecting huggingface-hub>=0.22.0 (from datasets->ragas)\n",
      "  Using cached huggingface_hub-0.25.0-py3-none-any.whl.metadata (13 kB)\n",
      "Requirement already satisfied: SQLAlchemy<3,>=1.4 in /opt/homebrew/Caskroom/miniforge/base/envs/llmops-course/lib/python3.11/site-packages (from langchain->ragas) (2.0.35)\n",
      "Requirement already satisfied: langchain-text-splitters<0.3.0,>=0.2.0 in /opt/homebrew/Caskroom/miniforge/base/envs/llmops-course/lib/python3.11/site-packages (from langchain->ragas) (0.2.4)\n",
      "Requirement already satisfied: dataclasses-json<0.7,>=0.5.7 in /opt/homebrew/Caskroom/miniforge/base/envs/llmops-course/lib/python3.11/site-packages (from langchain-community->ragas) (0.5.14)\n",
      "Requirement already satisfied: regex>=2022.1.18 in /opt/homebrew/Caskroom/miniforge/base/envs/llmops-course/lib/python3.11/site-packages (from tiktoken->ragas) (2024.9.11)\n",
      "Requirement already satisfied: aiohappyeyeballs>=2.3.0 in /opt/homebrew/Caskroom/miniforge/base/envs/llmops-course/lib/python3.11/site-packages (from aiohttp->datasets->ragas) (2.4.0)\n",
      "Requirement already satisfied: aiosignal>=1.1.2 in /opt/homebrew/Caskroom/miniforge/base/envs/llmops-course/lib/python3.11/site-packages (from aiohttp->datasets->ragas) (1.3.1)\n",
      "Requirement already satisfied: attrs>=17.3.0 in /opt/homebrew/Caskroom/miniforge/base/envs/llmops-course/lib/python3.11/site-packages (from aiohttp->datasets->ragas) (24.2.0)\n",
      "Requirement already satisfied: frozenlist>=1.1.1 in /opt/homebrew/Caskroom/miniforge/base/envs/llmops-course/lib/python3.11/site-packages (from aiohttp->datasets->ragas) (1.4.1)\n",
      "Requirement already satisfied: multidict<7.0,>=4.5 in /opt/homebrew/Caskroom/miniforge/base/envs/llmops-course/lib/python3.11/site-packages (from aiohttp->datasets->ragas) (6.1.0)\n",
      "Requirement already satisfied: yarl<2.0,>=1.0 in /opt/homebrew/Caskroom/miniforge/base/envs/llmops-course/lib/python3.11/site-packages (from aiohttp->datasets->ragas) (1.11.1)\n",
      "Requirement already satisfied: idna>=2.8 in /opt/homebrew/Caskroom/miniforge/base/envs/llmops-course/lib/python3.11/site-packages (from anyio<5,>=3.5.0->openai>1->ragas) (3.10)\n",
      "Requirement already satisfied: marshmallow<4.0.0,>=3.18.0 in /opt/homebrew/Caskroom/miniforge/base/envs/llmops-course/lib/python3.11/site-packages (from dataclasses-json<0.7,>=0.5.7->langchain-community->ragas) (3.22.0)\n",
      "Requirement already satisfied: typing-inspect<1,>=0.4.0 in /opt/homebrew/Caskroom/miniforge/base/envs/llmops-course/lib/python3.11/site-packages (from dataclasses-json<0.7,>=0.5.7->langchain-community->ragas) (0.9.0)\n",
      "Requirement already satisfied: certifi in /opt/homebrew/Caskroom/miniforge/base/envs/llmops-course/lib/python3.11/site-packages (from httpx<1,>=0.23.0->openai>1->ragas) (2024.8.30)\n",
      "Requirement already satisfied: httpcore<0.18.0,>=0.15.0 in /opt/homebrew/Caskroom/miniforge/base/envs/llmops-course/lib/python3.11/site-packages (from httpx<1,>=0.23.0->openai>1->ragas) (0.17.3)\n",
      "Requirement already satisfied: jsonpointer>=1.9 in /opt/homebrew/Caskroom/miniforge/base/envs/llmops-course/lib/python3.11/site-packages (from jsonpatch<2.0,>=1.33->langchain-core<0.3->ragas) (3.0.0)\n",
      "Requirement already satisfied: orjson<4.0.0,>=3.9.14 in /opt/homebrew/Caskroom/miniforge/base/envs/llmops-course/lib/python3.11/site-packages (from langsmith<0.2.0,>=0.1.112->langchain-core<0.3->ragas) (3.10.7)\n",
      "Requirement already satisfied: annotated-types>=0.6.0 in /opt/homebrew/Caskroom/miniforge/base/envs/llmops-course/lib/python3.11/site-packages (from pydantic<3,>=1->langchain-core<0.3->ragas) (0.7.0)\n",
      "Requirement already satisfied: pydantic-core==2.23.4 in /opt/homebrew/Caskroom/miniforge/base/envs/llmops-course/lib/python3.11/site-packages (from pydantic<3,>=1->langchain-core<0.3->ragas) (2.23.4)\n",
      "Requirement already satisfied: charset-normalizer<4,>=2 in /opt/homebrew/Caskroom/miniforge/base/envs/llmops-course/lib/python3.11/site-packages (from requests>=2.32.2->datasets->ragas) (3.3.2)\n",
      "Requirement already satisfied: urllib3<3,>=1.21.1 in /opt/homebrew/Caskroom/miniforge/base/envs/llmops-course/lib/python3.11/site-packages (from requests>=2.32.2->datasets->ragas) (2.2.3)\n",
      "Requirement already satisfied: python-dateutil>=2.8.2 in /opt/homebrew/Caskroom/miniforge/base/envs/llmops-course/lib/python3.11/site-packages (from pandas->datasets->ragas) (2.9.0)\n",
      "Collecting pytz>=2020.1 (from pandas->datasets->ragas)\n",
      "  Using cached pytz-2024.2-py2.py3-none-any.whl.metadata (22 kB)\n",
      "Collecting tzdata>=2022.7 (from pandas->datasets->ragas)\n",
      "  Using cached tzdata-2024.1-py2.py3-none-any.whl.metadata (1.4 kB)\n",
      "Requirement already satisfied: h11<0.15,>=0.13 in /opt/homebrew/Caskroom/miniforge/base/envs/llmops-course/lib/python3.11/site-packages (from httpcore<0.18.0,>=0.15.0->httpx<1,>=0.23.0->openai>1->ragas) (0.14.0)\n",
      "Requirement already satisfied: six>=1.5 in /opt/homebrew/Caskroom/miniforge/base/envs/llmops-course/lib/python3.11/site-packages (from python-dateutil>=2.8.2->pandas->datasets->ragas) (1.16.0)\n",
      "Requirement already satisfied: mypy-extensions>=0.3.0 in /opt/homebrew/Caskroom/miniforge/base/envs/llmops-course/lib/python3.11/site-packages (from typing-inspect<1,>=0.4.0->dataclasses-json<0.7,>=0.5.7->langchain-community->ragas) (1.0.0)\n",
      "Using cached ragas-0.1.20-py3-none-any.whl (190 kB)\n",
      "Using cached pysbd-0.3.4-py3-none-any.whl (71 kB)\n",
      "Using cached appdirs-1.4.4-py2.py3-none-any.whl (9.6 kB)\n",
      "Using cached datasets-3.0.0-py3-none-any.whl (474 kB)\n",
      "Using cached dill-0.3.8-py3-none-any.whl (116 kB)\n",
      "Using cached fsspec-2024.6.1-py3-none-any.whl (177 kB)\n",
      "Using cached huggingface_hub-0.25.0-py3-none-any.whl (436 kB)\n",
      "Using cached pyarrow-17.0.0-cp311-cp311-macosx_11_0_arm64.whl (27.2 MB)\n",
      "Using cached filelock-3.16.1-py3-none-any.whl (16 kB)\n",
      "Using cached multiprocess-0.70.16-py311-none-any.whl (143 kB)\n",
      "Using cached pandas-2.2.3-cp311-cp311-macosx_11_0_arm64.whl (11.3 MB)\n",
      "Using cached xxhash-3.5.0-cp311-cp311-macosx_11_0_arm64.whl (30 kB)\n",
      "Using cached pytz-2024.2-py2.py3-none-any.whl (508 kB)\n",
      "Using cached tzdata-2024.1-py2.py3-none-any.whl (345 kB)\n",
      "Installing collected packages: pytz, appdirs, xxhash, tzdata, pysbd, pyarrow, fsspec, filelock, dill, pandas, multiprocess, huggingface-hub, datasets, ragas\n",
      "Successfully installed appdirs-1.4.4 datasets-3.0.0 dill-0.3.8 filelock-3.16.1 fsspec-2024.6.1 huggingface-hub-0.25.0 multiprocess-0.70.16 pandas-2.2.3 pyarrow-17.0.0 pysbd-0.3.4 pytz-2024.2 ragas-0.1.20 tzdata-2024.1 xxhash-3.5.0\n"
     ]
    }
   ],
   "source": [
    "! pip install ragas"
   ]
  },
  {
   "cell_type": "code",
   "execution_count": 37,
   "metadata": {},
   "outputs": [
    {
     "name": "stderr",
     "output_type": "stream",
     "text": [
      "/opt/homebrew/Caskroom/miniforge/base/envs/llmops-course/lib/python3.11/site-packages/tqdm/auto.py:21: TqdmWarning: IProgress not found. Please update jupyter and ipywidgets. See https://ipywidgets.readthedocs.io/en/stable/user_install.html\n",
      "  from .autonotebook import tqdm as notebook_tqdm\n"
     ]
    }
   ],
   "source": [
    "from ragas.testset.generator import TestsetGenerator\n",
    "from ragas.testset.evolutions import simple, reasoning, multi_context\n",
    "from langchain_openai import ChatOpenAI, OpenAIEmbeddings\n",
    "\n",
    "generator_llm = ChatOpenAI(model=\"gpt-3.5-turbo\")\n",
    "critic_llm = ChatOpenAI(model=\"gpt-4o-mini\")\n",
    "embeddings = OpenAIEmbeddings()\n",
    "\n",
    "generator = TestsetGenerator.from_langchain(\n",
    "    generator_llm,\n",
    "    critic_llm,\n",
    "    embeddings\n",
    ")\n",
    "\n",
    "distributions = {\n",
    "    simple: 0.5,\n",
    "    multi_context: 0.4,\n",
    "    reasoning: 0.1\n",
    "}"
   ]
  },
  {
   "cell_type": "code",
   "execution_count": null,
   "metadata": {},
   "outputs": [],
   "source": [
    "testset = generator.generate_with_langchain_docs(full_docs, 20, distributions, with_debugging_logs=True)"
   ]
  },
  {
   "cell_type": "code",
   "execution_count": 40,
   "metadata": {},
   "outputs": [],
   "source": [
    "test_df = testset.to_pandas()"
   ]
  },
  {
   "cell_type": "code",
   "execution_count": 42,
   "metadata": {},
   "outputs": [],
   "source": [
    "test_questions = test_df[\"question\"].values.tolist()\n",
    "test_groundtruths = test_df[\"ground_truth\"].values.tolist()"
   ]
  },
  {
   "cell_type": "markdown",
   "metadata": {},
   "source": [
    "#### chunk strategy 2 rag chain"
   ]
  },
  {
   "cell_type": "code",
   "execution_count": 57,
   "metadata": {},
   "outputs": [],
   "source": [
    "answers = []\n",
    "contexts = []\n",
    "\n",
    "for question in test_questions:\n",
    "  response = retrieval_augmented_qa_chain.invoke({\"question\" : question})\n",
    "  answers.append(response[\"response\"].content)\n",
    "  contexts.append([context.page_content for context in response[\"context\"]])"
   ]
  },
  {
   "cell_type": "code",
   "execution_count": 58,
   "metadata": {},
   "outputs": [],
   "source": [
    "from datasets import Dataset\n",
    "\n",
    "response_dataset = Dataset.from_dict({\n",
    "    \"question\" : test_questions,\n",
    "    \"answer\" : answers,\n",
    "    \"contexts\" : contexts,\n",
    "    \"ground_truth\" : test_groundtruths\n",
    "})"
   ]
  },
  {
   "cell_type": "markdown",
   "metadata": {},
   "source": [
    "#### base response dataset"
   ]
  },
  {
   "cell_type": "code",
   "execution_count": 121,
   "metadata": {},
   "outputs": [],
   "source": [
    "answers = []\n",
    "contexts = []\n",
    "\n",
    "for question in test_questions:\n",
    "  response = base_retrieval_augmented_qa_chain.invoke({\"question\" : question})\n",
    "  answers.append(response[\"response\"].content)\n",
    "  contexts.append([context.page_content for context in response[\"context\"]])"
   ]
  },
  {
   "cell_type": "code",
   "execution_count": 122,
   "metadata": {},
   "outputs": [],
   "source": [
    "from datasets import Dataset\n",
    "\n",
    "base_response_dataset = Dataset.from_dict({\n",
    "    \"question\" : test_questions,\n",
    "    \"answer\" : answers,\n",
    "    \"contexts\" : contexts,\n",
    "    \"ground_truth\" : test_groundtruths\n",
    "})"
   ]
  },
  {
   "cell_type": "markdown",
   "metadata": {},
   "source": [
    "### Evaluate our Pipeline with Ragas"
   ]
  },
  {
   "cell_type": "code",
   "execution_count": 60,
   "metadata": {},
   "outputs": [],
   "source": [
    "from ragas import evaluate\n",
    "from ragas.metrics import (\n",
    "    faithfulness,\n",
    "    answer_relevancy,\n",
    "    answer_correctness,\n",
    "    context_recall,\n",
    "    context_precision,\n",
    ")\n",
    "\n",
    "metrics = [\n",
    "    faithfulness,\n",
    "    answer_relevancy,\n",
    "    context_recall,\n",
    "    context_precision,\n",
    "    answer_correctness,\n",
    "]"
   ]
  },
  {
   "cell_type": "code",
   "execution_count": 61,
   "metadata": {},
   "outputs": [
    {
     "name": "stderr",
     "output_type": "stream",
     "text": [
      "Evaluating:  40%|████      | 40/100 [00:17<00:19,  3.02it/s]No statements were generated from the answer.\n",
      "Evaluating: 100%|██████████| 100/100 [01:20<00:00,  1.24it/s]\n"
     ]
    }
   ],
   "source": [
    "results = evaluate(response_dataset, metrics)"
   ]
  },
  {
   "cell_type": "code",
   "execution_count": 62,
   "metadata": {},
   "outputs": [
    {
     "data": {
      "text/html": [
       "<div>\n",
       "<style scoped>\n",
       "    .dataframe tbody tr th:only-of-type {\n",
       "        vertical-align: middle;\n",
       "    }\n",
       "\n",
       "    .dataframe tbody tr th {\n",
       "        vertical-align: top;\n",
       "    }\n",
       "\n",
       "    .dataframe thead th {\n",
       "        text-align: right;\n",
       "    }\n",
       "</style>\n",
       "<table border=\"1\" class=\"dataframe\">\n",
       "  <thead>\n",
       "    <tr style=\"text-align: right;\">\n",
       "      <th></th>\n",
       "      <th>question</th>\n",
       "      <th>contexts</th>\n",
       "      <th>answer</th>\n",
       "      <th>ground_truth</th>\n",
       "      <th>faithfulness</th>\n",
       "      <th>answer_relevancy</th>\n",
       "      <th>context_recall</th>\n",
       "      <th>context_precision</th>\n",
       "      <th>answer_correctness</th>\n",
       "    </tr>\n",
       "  </thead>\n",
       "  <tbody>\n",
       "    <tr>\n",
       "      <th>0</th>\n",
       "      <td>What was President Biden's response to the Sup...</td>\n",
       "      <td>[SECTION: ENDNOTES\\n \\n \\n \\n \\nENDNOTES\\n1.Th...</td>\n",
       "      <td>President Biden's response to the Supreme Cour...</td>\n",
       "      <td>Remarks by President Biden on the Supreme Cour...</td>\n",
       "      <td>1.000000</td>\n",
       "      <td>0.941003</td>\n",
       "      <td>1.000000</td>\n",
       "      <td>1.000000</td>\n",
       "      <td>0.986177</td>\n",
       "    </tr>\n",
       "    <tr>\n",
       "      <th>1</th>\n",
       "      <td>What information should be included in regular...</td>\n",
       "      <td>[Reporting. When members of the public wish to...</td>\n",
       "      <td>Regularly-updated reports for entities respons...</td>\n",
       "      <td>Regularly-updated reports for entities respons...</td>\n",
       "      <td>1.000000</td>\n",
       "      <td>0.978649</td>\n",
       "      <td>1.000000</td>\n",
       "      <td>1.000000</td>\n",
       "      <td>0.994118</td>\n",
       "    </tr>\n",
       "    <tr>\n",
       "      <th>2</th>\n",
       "      <td>How is systemic bias evaluated and documented ...</td>\n",
       "      <td>[ \\nBias exists in many forms and can become i...</td>\n",
       "      <td>Systemic bias in the context of GAI systems is...</td>\n",
       "      <td>Systemic bias in GAI systems is evaluated and ...</td>\n",
       "      <td>1.000000</td>\n",
       "      <td>0.992335</td>\n",
       "      <td>1.000000</td>\n",
       "      <td>0.916667</td>\n",
       "      <td>0.537858</td>\n",
       "    </tr>\n",
       "    <tr>\n",
       "      <th>3</th>\n",
       "      <td>How do text-to-image models make it easy to cr...</td>\n",
       "      <td>[Text-to-image models also make it easy to cre...</td>\n",
       "      <td>Text-to-image models make it easy to create im...</td>\n",
       "      <td>Text-to-image models make it easy to create im...</td>\n",
       "      <td>1.000000</td>\n",
       "      <td>0.875886</td>\n",
       "      <td>1.000000</td>\n",
       "      <td>1.000000</td>\n",
       "      <td>0.768552</td>\n",
       "    </tr>\n",
       "    <tr>\n",
       "      <th>4</th>\n",
       "      <td>How is systemic bias evaluated and documented ...</td>\n",
       "      <td>[ \\nBias exists in many forms and can become i...</td>\n",
       "      <td>Systemic bias in GAI systems is evaluated and ...</td>\n",
       "      <td>Systemic bias in GAI systems is evaluated and ...</td>\n",
       "      <td>1.000000</td>\n",
       "      <td>0.989375</td>\n",
       "      <td>1.000000</td>\n",
       "      <td>1.000000</td>\n",
       "      <td>0.680668</td>\n",
       "    </tr>\n",
       "    <tr>\n",
       "      <th>5</th>\n",
       "      <td>What metrics can be used to reflect the effect...</td>\n",
       "      <td>[Action ID \\nSuggested Action \\nGAI Risks \\nMS...</td>\n",
       "      <td>The effectiveness of security measures in term...</td>\n",
       "      <td>Identify metrics that reflect the effectivenes...</td>\n",
       "      <td>0.764706</td>\n",
       "      <td>0.997419</td>\n",
       "      <td>0.666667</td>\n",
       "      <td>1.000000</td>\n",
       "      <td>0.361112</td>\n",
       "    </tr>\n",
       "    <tr>\n",
       "      <th>6</th>\n",
       "      <td>How do intellectual property risks arise from ...</td>\n",
       "      <td>[ \\nIntellectual property risks from GAI syste...</td>\n",
       "      <td>Intellectual property risks from GAI systems i...</td>\n",
       "      <td>Intellectual property risks from GAI systems m...</td>\n",
       "      <td>1.000000</td>\n",
       "      <td>0.987392</td>\n",
       "      <td>0.750000</td>\n",
       "      <td>0.750000</td>\n",
       "      <td>0.879481</td>\n",
       "    </tr>\n",
       "    <tr>\n",
       "      <th>7</th>\n",
       "      <td>What organizations were involved in the meetin...</td>\n",
       "      <td>[SECTION: LISTENING TO THE AMERICAN PEOPLE\\nAP...</td>\n",
       "      <td>The organizations involved in the meetings con...</td>\n",
       "      <td>Adobe, American Civil Liberties Union (ACLU), ...</td>\n",
       "      <td>NaN</td>\n",
       "      <td>0.999274</td>\n",
       "      <td>1.000000</td>\n",
       "      <td>1.000000</td>\n",
       "      <td>0.982893</td>\n",
       "    </tr>\n",
       "    <tr>\n",
       "      <th>8</th>\n",
       "      <td>How can vendor contracts be reviewed to avoid ...</td>\n",
       "      <td>[Address general risks associated with a lack ...</td>\n",
       "      <td>Vendor contracts can be reviewed by avoiding a...</td>\n",
       "      <td>Review vendor contracts to avoid arbitrary or ...</td>\n",
       "      <td>1.000000</td>\n",
       "      <td>0.949382</td>\n",
       "      <td>0.250000</td>\n",
       "      <td>1.000000</td>\n",
       "      <td>0.759448</td>\n",
       "    </tr>\n",
       "    <tr>\n",
       "      <th>9</th>\n",
       "      <td>What are some examples of automated systems th...</td>\n",
       "      <td>[SECTION: APPENDIX: EXAMPLES OF AUTOMATED SYST...</td>\n",
       "      <td>Examples of automated systems that impact the ...</td>\n",
       "      <td>Automated systems that impact the safety of co...</td>\n",
       "      <td>1.000000</td>\n",
       "      <td>1.000000</td>\n",
       "      <td>1.000000</td>\n",
       "      <td>1.000000</td>\n",
       "      <td>0.967447</td>\n",
       "    </tr>\n",
       "    <tr>\n",
       "      <th>10</th>\n",
       "      <td>How can automated systems prevent discriminati...</td>\n",
       "      <td>[SECTION: ALGORITHMIC DISCRIMINATION PROTECTIO...</td>\n",
       "      <td>Automated systems can prevent discrimination a...</td>\n",
       "      <td>Automated systems can prevent discrimination a...</td>\n",
       "      <td>1.000000</td>\n",
       "      <td>1.000000</td>\n",
       "      <td>1.000000</td>\n",
       "      <td>1.000000</td>\n",
       "      <td>0.792032</td>\n",
       "    </tr>\n",
       "    <tr>\n",
       "      <th>11</th>\n",
       "      <td>How do interdisciplinary teams impact risk mea...</td>\n",
       "      <td>[A.1.3. Third-Party Considerations \\nOrganizat...</td>\n",
       "      <td>Interdisciplinary teams enhance risk measureme...</td>\n",
       "      <td>Establishing and empowering interdisciplinary ...</td>\n",
       "      <td>0.916667</td>\n",
       "      <td>0.987106</td>\n",
       "      <td>0.000000</td>\n",
       "      <td>1.000000</td>\n",
       "      <td>0.751996</td>\n",
       "    </tr>\n",
       "    <tr>\n",
       "      <th>12</th>\n",
       "      <td>Where can the AI Risk Management Framework be ...</td>\n",
       "      <td>[ \\nIn the context of the AI RMF, risk refers ...</td>\n",
       "      <td>The AI Risk Management Framework can be source...</td>\n",
       "      <td>The AI Risk Management Framework can be source...</td>\n",
       "      <td>1.000000</td>\n",
       "      <td>1.000000</td>\n",
       "      <td>1.000000</td>\n",
       "      <td>0.583333</td>\n",
       "      <td>0.743236</td>\n",
       "    </tr>\n",
       "    <tr>\n",
       "      <th>13</th>\n",
       "      <td>How do generative tasks in GAI systems compare...</td>\n",
       "      <td>[ \\nTraining, maintaining, and operating (runn...</td>\n",
       "      <td>Generative tasks in GAI systems are more energ...</td>\n",
       "      <td>Generative tasks in GAI systems, such as text ...</td>\n",
       "      <td>1.000000</td>\n",
       "      <td>0.000000</td>\n",
       "      <td>0.600000</td>\n",
       "      <td>0.833333</td>\n",
       "      <td>0.613386</td>\n",
       "    </tr>\n",
       "    <tr>\n",
       "      <th>14</th>\n",
       "      <td>Who contributed ideas for the AI Bill of Rights?</td>\n",
       "      <td>[Participants in these conversations from the ...</td>\n",
       "      <td>Ideas for the AI Bill of Rights were contribut...</td>\n",
       "      <td>Adobe, American Civil Liberties Union (ACLU), ...</td>\n",
       "      <td>1.000000</td>\n",
       "      <td>1.000000</td>\n",
       "      <td>1.000000</td>\n",
       "      <td>0.916667</td>\n",
       "      <td>0.226779</td>\n",
       "    </tr>\n",
       "    <tr>\n",
       "      <th>15</th>\n",
       "      <td>How could generative AI affect disinformation ...</td>\n",
       "      <td>[GAI systems can also ease the deliberate prod...</td>\n",
       "      <td>Generative AI (GAI) could significantly impact...</td>\n",
       "      <td>Generative AI systems could ease the unintenti...</td>\n",
       "      <td>1.000000</td>\n",
       "      <td>0.996248</td>\n",
       "      <td>1.000000</td>\n",
       "      <td>1.000000</td>\n",
       "      <td>0.693400</td>\n",
       "    </tr>\n",
       "    <tr>\n",
       "      <th>16</th>\n",
       "      <td>What factors are key for effective fallback sy...</td>\n",
       "      <td>[SECTION: HUMAN ALTERNATIVES, CONSIDERATION, A...</td>\n",
       "      <td>The key factors for effective fallback system ...</td>\n",
       "      <td>The factors key for effective fallback system ...</td>\n",
       "      <td>0.923077</td>\n",
       "      <td>0.993913</td>\n",
       "      <td>1.000000</td>\n",
       "      <td>1.000000</td>\n",
       "      <td>0.554708</td>\n",
       "    </tr>\n",
       "    <tr>\n",
       "      <th>17</th>\n",
       "      <td>How does the government tackle mortgage lendin...</td>\n",
       "      <td>[SECTION: ALGORITHMIC DISCRIMINATION PROTECTIO...</td>\n",
       "      <td>The government tackles mortgage lending discri...</td>\n",
       "      <td>The federal government is working to combat di...</td>\n",
       "      <td>0.888889</td>\n",
       "      <td>0.935923</td>\n",
       "      <td>1.000000</td>\n",
       "      <td>0.916667</td>\n",
       "      <td>0.993296</td>\n",
       "    </tr>\n",
       "    <tr>\n",
       "      <th>18</th>\n",
       "      <td>How can information integrity risks in AI syst...</td>\n",
       "      <td>[Merely \\nquerying a closed production model c...</td>\n",
       "      <td>Information integrity risks in AI systems can ...</td>\n",
       "      <td>Information integrity risks in AI systems can ...</td>\n",
       "      <td>0.954545</td>\n",
       "      <td>0.957536</td>\n",
       "      <td>1.000000</td>\n",
       "      <td>1.000000</td>\n",
       "      <td>0.424185</td>\n",
       "    </tr>\n",
       "    <tr>\n",
       "      <th>19</th>\n",
       "      <td>What steps are needed for improving GAI risk m...</td>\n",
       "      <td>[ \\nGAI value chains involve many third-party ...</td>\n",
       "      <td>To improve GAI risk measurement, the following...</td>\n",
       "      <td>Establish policies and procedures that address...</td>\n",
       "      <td>1.000000</td>\n",
       "      <td>0.949155</td>\n",
       "      <td>0.666667</td>\n",
       "      <td>1.000000</td>\n",
       "      <td>0.443520</td>\n",
       "    </tr>\n",
       "  </tbody>\n",
       "</table>\n",
       "</div>"
      ],
      "text/plain": [
       "                                             question  \\\n",
       "0   What was President Biden's response to the Sup...   \n",
       "1   What information should be included in regular...   \n",
       "2   How is systemic bias evaluated and documented ...   \n",
       "3   How do text-to-image models make it easy to cr...   \n",
       "4   How is systemic bias evaluated and documented ...   \n",
       "5   What metrics can be used to reflect the effect...   \n",
       "6   How do intellectual property risks arise from ...   \n",
       "7   What organizations were involved in the meetin...   \n",
       "8   How can vendor contracts be reviewed to avoid ...   \n",
       "9   What are some examples of automated systems th...   \n",
       "10  How can automated systems prevent discriminati...   \n",
       "11  How do interdisciplinary teams impact risk mea...   \n",
       "12  Where can the AI Risk Management Framework be ...   \n",
       "13  How do generative tasks in GAI systems compare...   \n",
       "14   Who contributed ideas for the AI Bill of Rights?   \n",
       "15  How could generative AI affect disinformation ...   \n",
       "16  What factors are key for effective fallback sy...   \n",
       "17  How does the government tackle mortgage lendin...   \n",
       "18  How can information integrity risks in AI syst...   \n",
       "19  What steps are needed for improving GAI risk m...   \n",
       "\n",
       "                                             contexts  \\\n",
       "0   [SECTION: ENDNOTES\\n \\n \\n \\n \\nENDNOTES\\n1.Th...   \n",
       "1   [Reporting. When members of the public wish to...   \n",
       "2   [ \\nBias exists in many forms and can become i...   \n",
       "3   [Text-to-image models also make it easy to cre...   \n",
       "4   [ \\nBias exists in many forms and can become i...   \n",
       "5   [Action ID \\nSuggested Action \\nGAI Risks \\nMS...   \n",
       "6   [ \\nIntellectual property risks from GAI syste...   \n",
       "7   [SECTION: LISTENING TO THE AMERICAN PEOPLE\\nAP...   \n",
       "8   [Address general risks associated with a lack ...   \n",
       "9   [SECTION: APPENDIX: EXAMPLES OF AUTOMATED SYST...   \n",
       "10  [SECTION: ALGORITHMIC DISCRIMINATION PROTECTIO...   \n",
       "11  [A.1.3. Third-Party Considerations \\nOrganizat...   \n",
       "12  [ \\nIn the context of the AI RMF, risk refers ...   \n",
       "13  [ \\nTraining, maintaining, and operating (runn...   \n",
       "14  [Participants in these conversations from the ...   \n",
       "15  [GAI systems can also ease the deliberate prod...   \n",
       "16  [SECTION: HUMAN ALTERNATIVES, CONSIDERATION, A...   \n",
       "17  [SECTION: ALGORITHMIC DISCRIMINATION PROTECTIO...   \n",
       "18  [Merely \\nquerying a closed production model c...   \n",
       "19  [ \\nGAI value chains involve many third-party ...   \n",
       "\n",
       "                                               answer  \\\n",
       "0   President Biden's response to the Supreme Cour...   \n",
       "1   Regularly-updated reports for entities respons...   \n",
       "2   Systemic bias in the context of GAI systems is...   \n",
       "3   Text-to-image models make it easy to create im...   \n",
       "4   Systemic bias in GAI systems is evaluated and ...   \n",
       "5   The effectiveness of security measures in term...   \n",
       "6   Intellectual property risks from GAI systems i...   \n",
       "7   The organizations involved in the meetings con...   \n",
       "8   Vendor contracts can be reviewed by avoiding a...   \n",
       "9   Examples of automated systems that impact the ...   \n",
       "10  Automated systems can prevent discrimination a...   \n",
       "11  Interdisciplinary teams enhance risk measureme...   \n",
       "12  The AI Risk Management Framework can be source...   \n",
       "13  Generative tasks in GAI systems are more energ...   \n",
       "14  Ideas for the AI Bill of Rights were contribut...   \n",
       "15  Generative AI (GAI) could significantly impact...   \n",
       "16  The key factors for effective fallback system ...   \n",
       "17  The government tackles mortgage lending discri...   \n",
       "18  Information integrity risks in AI systems can ...   \n",
       "19  To improve GAI risk measurement, the following...   \n",
       "\n",
       "                                         ground_truth  faithfulness  \\\n",
       "0   Remarks by President Biden on the Supreme Cour...      1.000000   \n",
       "1   Regularly-updated reports for entities respons...      1.000000   \n",
       "2   Systemic bias in GAI systems is evaluated and ...      1.000000   \n",
       "3   Text-to-image models make it easy to create im...      1.000000   \n",
       "4   Systemic bias in GAI systems is evaluated and ...      1.000000   \n",
       "5   Identify metrics that reflect the effectivenes...      0.764706   \n",
       "6   Intellectual property risks from GAI systems m...      1.000000   \n",
       "7   Adobe, American Civil Liberties Union (ACLU), ...           NaN   \n",
       "8   Review vendor contracts to avoid arbitrary or ...      1.000000   \n",
       "9   Automated systems that impact the safety of co...      1.000000   \n",
       "10  Automated systems can prevent discrimination a...      1.000000   \n",
       "11  Establishing and empowering interdisciplinary ...      0.916667   \n",
       "12  The AI Risk Management Framework can be source...      1.000000   \n",
       "13  Generative tasks in GAI systems, such as text ...      1.000000   \n",
       "14  Adobe, American Civil Liberties Union (ACLU), ...      1.000000   \n",
       "15  Generative AI systems could ease the unintenti...      1.000000   \n",
       "16  The factors key for effective fallback system ...      0.923077   \n",
       "17  The federal government is working to combat di...      0.888889   \n",
       "18  Information integrity risks in AI systems can ...      0.954545   \n",
       "19  Establish policies and procedures that address...      1.000000   \n",
       "\n",
       "    answer_relevancy  context_recall  context_precision  answer_correctness  \n",
       "0           0.941003        1.000000           1.000000            0.986177  \n",
       "1           0.978649        1.000000           1.000000            0.994118  \n",
       "2           0.992335        1.000000           0.916667            0.537858  \n",
       "3           0.875886        1.000000           1.000000            0.768552  \n",
       "4           0.989375        1.000000           1.000000            0.680668  \n",
       "5           0.997419        0.666667           1.000000            0.361112  \n",
       "6           0.987392        0.750000           0.750000            0.879481  \n",
       "7           0.999274        1.000000           1.000000            0.982893  \n",
       "8           0.949382        0.250000           1.000000            0.759448  \n",
       "9           1.000000        1.000000           1.000000            0.967447  \n",
       "10          1.000000        1.000000           1.000000            0.792032  \n",
       "11          0.987106        0.000000           1.000000            0.751996  \n",
       "12          1.000000        1.000000           0.583333            0.743236  \n",
       "13          0.000000        0.600000           0.833333            0.613386  \n",
       "14          1.000000        1.000000           0.916667            0.226779  \n",
       "15          0.996248        1.000000           1.000000            0.693400  \n",
       "16          0.993913        1.000000           1.000000            0.554708  \n",
       "17          0.935923        1.000000           0.916667            0.993296  \n",
       "18          0.957536        1.000000           1.000000            0.424185  \n",
       "19          0.949155        0.666667           1.000000            0.443520  "
      ]
     },
     "execution_count": 62,
     "metadata": {},
     "output_type": "execute_result"
    }
   ],
   "source": [
    "results_df = results.to_pandas()\n",
    "results_df"
   ]
  },
  {
   "cell_type": "code",
   "execution_count": 84,
   "metadata": {},
   "outputs": [
    {
     "data": {
      "text/html": [
       "<div>\n",
       "<style scoped>\n",
       "    .dataframe tbody tr th:only-of-type {\n",
       "        vertical-align: middle;\n",
       "    }\n",
       "\n",
       "    .dataframe tbody tr th {\n",
       "        vertical-align: top;\n",
       "    }\n",
       "\n",
       "    .dataframe thead th {\n",
       "        text-align: right;\n",
       "    }\n",
       "</style>\n",
       "<table border=\"1\" class=\"dataframe\">\n",
       "  <thead>\n",
       "    <tr style=\"text-align: right;\">\n",
       "      <th></th>\n",
       "      <th>faithfulness</th>\n",
       "      <th>answer_relevancy</th>\n",
       "      <th>context_recall</th>\n",
       "      <th>context_precision</th>\n",
       "      <th>answer_correctness</th>\n",
       "    </tr>\n",
       "  </thead>\n",
       "  <tbody>\n",
       "    <tr>\n",
       "      <th>count</th>\n",
       "      <td>19.000000</td>\n",
       "      <td>20.000000</td>\n",
       "      <td>20.000000</td>\n",
       "      <td>20.000000</td>\n",
       "      <td>20.000000</td>\n",
       "    </tr>\n",
       "    <tr>\n",
       "      <th>mean</th>\n",
       "      <td>0.970941</td>\n",
       "      <td>0.926530</td>\n",
       "      <td>0.846667</td>\n",
       "      <td>0.945833</td>\n",
       "      <td>0.707715</td>\n",
       "    </tr>\n",
       "    <tr>\n",
       "      <th>std</th>\n",
       "      <td>0.060824</td>\n",
       "      <td>0.220406</td>\n",
       "      <td>0.284420</td>\n",
       "      <td>0.109073</td>\n",
       "      <td>0.228754</td>\n",
       "    </tr>\n",
       "    <tr>\n",
       "      <th>min</th>\n",
       "      <td>0.764706</td>\n",
       "      <td>0.000000</td>\n",
       "      <td>0.000000</td>\n",
       "      <td>0.583333</td>\n",
       "      <td>0.226779</td>\n",
       "    </tr>\n",
       "    <tr>\n",
       "      <th>25%</th>\n",
       "      <td>0.977273</td>\n",
       "      <td>0.949325</td>\n",
       "      <td>0.729167</td>\n",
       "      <td>0.916667</td>\n",
       "      <td>0.550496</td>\n",
       "    </tr>\n",
       "    <tr>\n",
       "      <th>50%</th>\n",
       "      <td>1.000000</td>\n",
       "      <td>0.988384</td>\n",
       "      <td>1.000000</td>\n",
       "      <td>1.000000</td>\n",
       "      <td>0.747616</td>\n",
       "    </tr>\n",
       "    <tr>\n",
       "      <th>75%</th>\n",
       "      <td>1.000000</td>\n",
       "      <td>0.997882</td>\n",
       "      <td>1.000000</td>\n",
       "      <td>1.000000</td>\n",
       "      <td>0.901472</td>\n",
       "    </tr>\n",
       "    <tr>\n",
       "      <th>max</th>\n",
       "      <td>1.000000</td>\n",
       "      <td>1.000000</td>\n",
       "      <td>1.000000</td>\n",
       "      <td>1.000000</td>\n",
       "      <td>0.994118</td>\n",
       "    </tr>\n",
       "  </tbody>\n",
       "</table>\n",
       "</div>"
      ],
      "text/plain": [
       "       faithfulness  answer_relevancy  context_recall  context_precision  \\\n",
       "count     19.000000         20.000000       20.000000          20.000000   \n",
       "mean       0.970941          0.926530        0.846667           0.945833   \n",
       "std        0.060824          0.220406        0.284420           0.109073   \n",
       "min        0.764706          0.000000        0.000000           0.583333   \n",
       "25%        0.977273          0.949325        0.729167           0.916667   \n",
       "50%        1.000000          0.988384        1.000000           1.000000   \n",
       "75%        1.000000          0.997882        1.000000           1.000000   \n",
       "max        1.000000          1.000000        1.000000           1.000000   \n",
       "\n",
       "       answer_correctness  \n",
       "count           20.000000  \n",
       "mean             0.707715  \n",
       "std              0.228754  \n",
       "min              0.226779  \n",
       "25%              0.550496  \n",
       "50%              0.747616  \n",
       "75%              0.901472  \n",
       "max              0.994118  "
      ]
     },
     "execution_count": 84,
     "metadata": {},
     "output_type": "execute_result"
    }
   ],
   "source": [
    "results_df.iloc[:,4:].describe()"
   ]
  },
  {
   "cell_type": "code",
   "execution_count": 126,
   "metadata": {},
   "outputs": [
    {
     "data": {
      "text/plain": [
       "faithfulness          1.000000\n",
       "answer_relevancy      0.988384\n",
       "context_recall        1.000000\n",
       "context_precision     1.000000\n",
       "answer_correctness    0.747616\n",
       "dtype: float64"
      ]
     },
     "execution_count": 126,
     "metadata": {},
     "output_type": "execute_result"
    }
   ],
   "source": [
    "results_df.iloc[:,4:].median()"
   ]
  },
  {
   "cell_type": "markdown",
   "metadata": {},
   "source": [
    "#### base chunking rag eval"
   ]
  },
  {
   "cell_type": "code",
   "execution_count": 124,
   "metadata": {},
   "outputs": [
    {
     "name": "stderr",
     "output_type": "stream",
     "text": [
      "Evaluating:  72%|███████▏  | 72/100 [00:40<00:18,  1.53it/s]No statements were generated from the answer.\n",
      "Evaluating: 100%|██████████| 100/100 [01:40<00:00,  1.01s/it]\n"
     ]
    },
    {
     "data": {
      "text/html": [
       "<div>\n",
       "<style scoped>\n",
       "    .dataframe tbody tr th:only-of-type {\n",
       "        vertical-align: middle;\n",
       "    }\n",
       "\n",
       "    .dataframe tbody tr th {\n",
       "        vertical-align: top;\n",
       "    }\n",
       "\n",
       "    .dataframe thead th {\n",
       "        text-align: right;\n",
       "    }\n",
       "</style>\n",
       "<table border=\"1\" class=\"dataframe\">\n",
       "  <thead>\n",
       "    <tr style=\"text-align: right;\">\n",
       "      <th></th>\n",
       "      <th>question</th>\n",
       "      <th>contexts</th>\n",
       "      <th>answer</th>\n",
       "      <th>ground_truth</th>\n",
       "      <th>faithfulness</th>\n",
       "      <th>answer_relevancy</th>\n",
       "      <th>context_recall</th>\n",
       "      <th>context_precision</th>\n",
       "      <th>answer_correctness</th>\n",
       "    </tr>\n",
       "  </thead>\n",
       "  <tbody>\n",
       "    <tr>\n",
       "      <th>0</th>\n",
       "      <td>What was President Biden's response to the Sup...</td>\n",
       "      <td>[SECTION: ENDNOTES\\n \\n \\n \\n \\nENDNOTES\\n1.Th...</td>\n",
       "      <td>President Biden's response to the Supreme Cour...</td>\n",
       "      <td>Remarks by President Biden on the Supreme Cour...</td>\n",
       "      <td>1.000000</td>\n",
       "      <td>0.941003</td>\n",
       "      <td>1.0</td>\n",
       "      <td>1.000000</td>\n",
       "      <td>0.834859</td>\n",
       "    </tr>\n",
       "    <tr>\n",
       "      <th>1</th>\n",
       "      <td>What information should be included in regular...</td>\n",
       "      <td>[SECTION: SAFE AND EFFECTIVE SYSTEMS\\n \\n \\n \\...</td>\n",
       "      <td>Regularly-updated reports for entities respons...</td>\n",
       "      <td>Regularly-updated reports for entities respons...</td>\n",
       "      <td>1.000000</td>\n",
       "      <td>0.978649</td>\n",
       "      <td>1.0</td>\n",
       "      <td>1.000000</td>\n",
       "      <td>0.635246</td>\n",
       "    </tr>\n",
       "    <tr>\n",
       "      <th>2</th>\n",
       "      <td>How is systemic bias evaluated and documented ...</td>\n",
       "      <td>[ \\nBias exists in many forms and can become i...</td>\n",
       "      <td>Systemic bias in the context of Generative AI ...</td>\n",
       "      <td>Systemic bias in GAI systems is evaluated and ...</td>\n",
       "      <td>0.916667</td>\n",
       "      <td>0.899814</td>\n",
       "      <td>1.0</td>\n",
       "      <td>1.000000</td>\n",
       "      <td>0.585370</td>\n",
       "    </tr>\n",
       "    <tr>\n",
       "      <th>3</th>\n",
       "      <td>How do text-to-image models make it easy to cr...</td>\n",
       "      <td>[ \\nGAI systems can produce content that is in...</td>\n",
       "      <td>Text-to-image models facilitate the creation o...</td>\n",
       "      <td>Text-to-image models make it easy to create im...</td>\n",
       "      <td>1.000000</td>\n",
       "      <td>0.979026</td>\n",
       "      <td>1.0</td>\n",
       "      <td>1.000000</td>\n",
       "      <td>0.579387</td>\n",
       "    </tr>\n",
       "    <tr>\n",
       "      <th>4</th>\n",
       "      <td>How is systemic bias evaluated and documented ...</td>\n",
       "      <td>[ \\nBias exists in many forms and can become i...</td>\n",
       "      <td>Systemic bias in the context of Generative AI ...</td>\n",
       "      <td>Systemic bias in GAI systems is evaluated and ...</td>\n",
       "      <td>1.000000</td>\n",
       "      <td>0.905790</td>\n",
       "      <td>1.0</td>\n",
       "      <td>1.000000</td>\n",
       "      <td>0.481002</td>\n",
       "    </tr>\n",
       "    <tr>\n",
       "      <th>5</th>\n",
       "      <td>What metrics can be used to reflect the effect...</td>\n",
       "      <td>[SECTION: SAFE AND EFFECTIVE SYSTEMS\\n \\n \\n \\...</td>\n",
       "      <td>To reflect the effectiveness of security measu...</td>\n",
       "      <td>Identify metrics that reflect the effectivenes...</td>\n",
       "      <td>1.000000</td>\n",
       "      <td>1.000000</td>\n",
       "      <td>1.0</td>\n",
       "      <td>1.000000</td>\n",
       "      <td>0.638213</td>\n",
       "    </tr>\n",
       "    <tr>\n",
       "      <th>6</th>\n",
       "      <td>How do intellectual property risks arise from ...</td>\n",
       "      <td>[ \\nIntellectual property risks from GAI syste...</td>\n",
       "      <td>Intellectual property risks from GAI (General ...</td>\n",
       "      <td>Intellectual property risks from GAI systems m...</td>\n",
       "      <td>1.000000</td>\n",
       "      <td>0.987392</td>\n",
       "      <td>1.0</td>\n",
       "      <td>1.000000</td>\n",
       "      <td>0.845114</td>\n",
       "    </tr>\n",
       "    <tr>\n",
       "      <th>7</th>\n",
       "      <td>What organizations were involved in the meetin...</td>\n",
       "      <td>[SECTION: LISTENING TO THE AMERICAN PEOPLE\\nAP...</td>\n",
       "      <td>The organizations involved in the meetings con...</td>\n",
       "      <td>Adobe, American Civil Liberties Union (ACLU), ...</td>\n",
       "      <td>NaN</td>\n",
       "      <td>1.000000</td>\n",
       "      <td>1.0</td>\n",
       "      <td>0.916667</td>\n",
       "      <td>0.982671</td>\n",
       "    </tr>\n",
       "    <tr>\n",
       "      <th>8</th>\n",
       "      <td>How can vendor contracts be reviewed to avoid ...</td>\n",
       "      <td>[ \\nGAI systems raise several risks to privacy...</td>\n",
       "      <td>Vendor contracts can be reviewed to avoid arbi...</td>\n",
       "      <td>Review vendor contracts to avoid arbitrary or ...</td>\n",
       "      <td>1.000000</td>\n",
       "      <td>0.932752</td>\n",
       "      <td>1.0</td>\n",
       "      <td>1.000000</td>\n",
       "      <td>0.992155</td>\n",
       "    </tr>\n",
       "    <tr>\n",
       "      <th>9</th>\n",
       "      <td>What are some examples of automated systems th...</td>\n",
       "      <td>[SECTION: APPENDIX: EXAMPLES OF AUTOMATED SYST...</td>\n",
       "      <td>Examples of automated systems that impact the ...</td>\n",
       "      <td>Automated systems that impact the safety of co...</td>\n",
       "      <td>1.000000</td>\n",
       "      <td>1.000000</td>\n",
       "      <td>1.0</td>\n",
       "      <td>1.000000</td>\n",
       "      <td>0.993029</td>\n",
       "    </tr>\n",
       "    <tr>\n",
       "      <th>10</th>\n",
       "      <td>How can automated systems prevent discriminati...</td>\n",
       "      <td>[SECTION: ALGORITHMIC DISCRIMINATION PROTECTIO...</td>\n",
       "      <td>Automated systems can prevent discrimination a...</td>\n",
       "      <td>Automated systems can prevent discrimination a...</td>\n",
       "      <td>1.000000</td>\n",
       "      <td>1.000000</td>\n",
       "      <td>1.0</td>\n",
       "      <td>1.000000</td>\n",
       "      <td>0.995715</td>\n",
       "    </tr>\n",
       "    <tr>\n",
       "      <th>11</th>\n",
       "      <td>How do interdisciplinary teams impact risk mea...</td>\n",
       "      <td>[ \\nGAI value chains involve many third-party ...</td>\n",
       "      <td>Interdisciplinary teams impact risk measuremen...</td>\n",
       "      <td>Establishing and empowering interdisciplinary ...</td>\n",
       "      <td>1.000000</td>\n",
       "      <td>0.997909</td>\n",
       "      <td>1.0</td>\n",
       "      <td>1.000000</td>\n",
       "      <td>0.987680</td>\n",
       "    </tr>\n",
       "    <tr>\n",
       "      <th>12</th>\n",
       "      <td>Where can the AI Risk Management Framework be ...</td>\n",
       "      <td>[ \\nThis document is a cross-sectoral proﬁle o...</td>\n",
       "      <td>The AI Risk Management Framework (AI RMF 1.0) ...</td>\n",
       "      <td>The AI Risk Management Framework can be source...</td>\n",
       "      <td>1.000000</td>\n",
       "      <td>0.888039</td>\n",
       "      <td>1.0</td>\n",
       "      <td>1.000000</td>\n",
       "      <td>0.482071</td>\n",
       "    </tr>\n",
       "    <tr>\n",
       "      <th>13</th>\n",
       "      <td>How do generative tasks in GAI systems compare...</td>\n",
       "      <td>[ \\nTraining, maintaining, and operating (runn...</td>\n",
       "      <td>Generative tasks in GAI systems are more energ...</td>\n",
       "      <td>Generative tasks in GAI systems, such as text ...</td>\n",
       "      <td>1.000000</td>\n",
       "      <td>0.936070</td>\n",
       "      <td>1.0</td>\n",
       "      <td>1.000000</td>\n",
       "      <td>0.830336</td>\n",
       "    </tr>\n",
       "    <tr>\n",
       "      <th>14</th>\n",
       "      <td>Who contributed ideas for the AI Bill of Rights?</td>\n",
       "      <td>[SECTION: LISTENING TO THE AMERICAN PEOPLE\\nAP...</td>\n",
       "      <td>Ideas for the AI Bill of Rights were contribut...</td>\n",
       "      <td>Adobe, American Civil Liberties Union (ACLU), ...</td>\n",
       "      <td>1.000000</td>\n",
       "      <td>1.000000</td>\n",
       "      <td>1.0</td>\n",
       "      <td>1.000000</td>\n",
       "      <td>0.230453</td>\n",
       "    </tr>\n",
       "    <tr>\n",
       "      <th>15</th>\n",
       "      <td>How could generative AI affect disinformation ...</td>\n",
       "      <td>[ \\nInformation integrity describes the “spect...</td>\n",
       "      <td>Generative AI (GAI) can significantly impact b...</td>\n",
       "      <td>Generative AI systems could ease the unintenti...</td>\n",
       "      <td>1.000000</td>\n",
       "      <td>0.992389</td>\n",
       "      <td>1.0</td>\n",
       "      <td>1.000000</td>\n",
       "      <td>0.485881</td>\n",
       "    </tr>\n",
       "    <tr>\n",
       "      <th>16</th>\n",
       "      <td>What factors are key for effective fallback sy...</td>\n",
       "      <td>[SECTION: HUMAN ALTERNATIVES, CONSIDERATION, A...</td>\n",
       "      <td>The key factors for effective fallback system ...</td>\n",
       "      <td>The factors key for effective fallback system ...</td>\n",
       "      <td>1.000000</td>\n",
       "      <td>0.993913</td>\n",
       "      <td>1.0</td>\n",
       "      <td>1.000000</td>\n",
       "      <td>0.854106</td>\n",
       "    </tr>\n",
       "    <tr>\n",
       "      <th>17</th>\n",
       "      <td>How does the government tackle mortgage lendin...</td>\n",
       "      <td>[SECTION: ALGORITHMIC DISCRIMINATION PROTECTIO...</td>\n",
       "      <td>The federal government is addressing mortgage ...</td>\n",
       "      <td>The federal government is working to combat di...</td>\n",
       "      <td>0.900000</td>\n",
       "      <td>0.925110</td>\n",
       "      <td>1.0</td>\n",
       "      <td>0.916667</td>\n",
       "      <td>0.995019</td>\n",
       "    </tr>\n",
       "    <tr>\n",
       "      <th>18</th>\n",
       "      <td>How can information integrity risks in AI syst...</td>\n",
       "      <td>[ \\nGAI systems raise several risks to privacy...</td>\n",
       "      <td>Information integrity risks in AI systems can ...</td>\n",
       "      <td>Information integrity risks in AI systems can ...</td>\n",
       "      <td>0.312500</td>\n",
       "      <td>0.957536</td>\n",
       "      <td>1.0</td>\n",
       "      <td>1.000000</td>\n",
       "      <td>0.718132</td>\n",
       "    </tr>\n",
       "    <tr>\n",
       "      <th>19</th>\n",
       "      <td>What steps are needed for improving GAI risk m...</td>\n",
       "      <td>[ \\nThe following primary considerations were ...</td>\n",
       "      <td>To improve Generative AI (GAI) risk measuremen...</td>\n",
       "      <td>Establish policies and procedures that address...</td>\n",
       "      <td>1.000000</td>\n",
       "      <td>0.911125</td>\n",
       "      <td>1.0</td>\n",
       "      <td>1.000000</td>\n",
       "      <td>0.524102</td>\n",
       "    </tr>\n",
       "  </tbody>\n",
       "</table>\n",
       "</div>"
      ],
      "text/plain": [
       "                                             question  \\\n",
       "0   What was President Biden's response to the Sup...   \n",
       "1   What information should be included in regular...   \n",
       "2   How is systemic bias evaluated and documented ...   \n",
       "3   How do text-to-image models make it easy to cr...   \n",
       "4   How is systemic bias evaluated and documented ...   \n",
       "5   What metrics can be used to reflect the effect...   \n",
       "6   How do intellectual property risks arise from ...   \n",
       "7   What organizations were involved in the meetin...   \n",
       "8   How can vendor contracts be reviewed to avoid ...   \n",
       "9   What are some examples of automated systems th...   \n",
       "10  How can automated systems prevent discriminati...   \n",
       "11  How do interdisciplinary teams impact risk mea...   \n",
       "12  Where can the AI Risk Management Framework be ...   \n",
       "13  How do generative tasks in GAI systems compare...   \n",
       "14   Who contributed ideas for the AI Bill of Rights?   \n",
       "15  How could generative AI affect disinformation ...   \n",
       "16  What factors are key for effective fallback sy...   \n",
       "17  How does the government tackle mortgage lendin...   \n",
       "18  How can information integrity risks in AI syst...   \n",
       "19  What steps are needed for improving GAI risk m...   \n",
       "\n",
       "                                             contexts  \\\n",
       "0   [SECTION: ENDNOTES\\n \\n \\n \\n \\nENDNOTES\\n1.Th...   \n",
       "1   [SECTION: SAFE AND EFFECTIVE SYSTEMS\\n \\n \\n \\...   \n",
       "2   [ \\nBias exists in many forms and can become i...   \n",
       "3   [ \\nGAI systems can produce content that is in...   \n",
       "4   [ \\nBias exists in many forms and can become i...   \n",
       "5   [SECTION: SAFE AND EFFECTIVE SYSTEMS\\n \\n \\n \\...   \n",
       "6   [ \\nIntellectual property risks from GAI syste...   \n",
       "7   [SECTION: LISTENING TO THE AMERICAN PEOPLE\\nAP...   \n",
       "8   [ \\nGAI systems raise several risks to privacy...   \n",
       "9   [SECTION: APPENDIX: EXAMPLES OF AUTOMATED SYST...   \n",
       "10  [SECTION: ALGORITHMIC DISCRIMINATION PROTECTIO...   \n",
       "11  [ \\nGAI value chains involve many third-party ...   \n",
       "12  [ \\nThis document is a cross-sectoral proﬁle o...   \n",
       "13  [ \\nTraining, maintaining, and operating (runn...   \n",
       "14  [SECTION: LISTENING TO THE AMERICAN PEOPLE\\nAP...   \n",
       "15  [ \\nInformation integrity describes the “spect...   \n",
       "16  [SECTION: HUMAN ALTERNATIVES, CONSIDERATION, A...   \n",
       "17  [SECTION: ALGORITHMIC DISCRIMINATION PROTECTIO...   \n",
       "18  [ \\nGAI systems raise several risks to privacy...   \n",
       "19  [ \\nThe following primary considerations were ...   \n",
       "\n",
       "                                               answer  \\\n",
       "0   President Biden's response to the Supreme Cour...   \n",
       "1   Regularly-updated reports for entities respons...   \n",
       "2   Systemic bias in the context of Generative AI ...   \n",
       "3   Text-to-image models facilitate the creation o...   \n",
       "4   Systemic bias in the context of Generative AI ...   \n",
       "5   To reflect the effectiveness of security measu...   \n",
       "6   Intellectual property risks from GAI (General ...   \n",
       "7   The organizations involved in the meetings con...   \n",
       "8   Vendor contracts can be reviewed to avoid arbi...   \n",
       "9   Examples of automated systems that impact the ...   \n",
       "10  Automated systems can prevent discrimination a...   \n",
       "11  Interdisciplinary teams impact risk measuremen...   \n",
       "12  The AI Risk Management Framework (AI RMF 1.0) ...   \n",
       "13  Generative tasks in GAI systems are more energ...   \n",
       "14  Ideas for the AI Bill of Rights were contribut...   \n",
       "15  Generative AI (GAI) can significantly impact b...   \n",
       "16  The key factors for effective fallback system ...   \n",
       "17  The federal government is addressing mortgage ...   \n",
       "18  Information integrity risks in AI systems can ...   \n",
       "19  To improve Generative AI (GAI) risk measuremen...   \n",
       "\n",
       "                                         ground_truth  faithfulness  \\\n",
       "0   Remarks by President Biden on the Supreme Cour...      1.000000   \n",
       "1   Regularly-updated reports for entities respons...      1.000000   \n",
       "2   Systemic bias in GAI systems is evaluated and ...      0.916667   \n",
       "3   Text-to-image models make it easy to create im...      1.000000   \n",
       "4   Systemic bias in GAI systems is evaluated and ...      1.000000   \n",
       "5   Identify metrics that reflect the effectivenes...      1.000000   \n",
       "6   Intellectual property risks from GAI systems m...      1.000000   \n",
       "7   Adobe, American Civil Liberties Union (ACLU), ...           NaN   \n",
       "8   Review vendor contracts to avoid arbitrary or ...      1.000000   \n",
       "9   Automated systems that impact the safety of co...      1.000000   \n",
       "10  Automated systems can prevent discrimination a...      1.000000   \n",
       "11  Establishing and empowering interdisciplinary ...      1.000000   \n",
       "12  The AI Risk Management Framework can be source...      1.000000   \n",
       "13  Generative tasks in GAI systems, such as text ...      1.000000   \n",
       "14  Adobe, American Civil Liberties Union (ACLU), ...      1.000000   \n",
       "15  Generative AI systems could ease the unintenti...      1.000000   \n",
       "16  The factors key for effective fallback system ...      1.000000   \n",
       "17  The federal government is working to combat di...      0.900000   \n",
       "18  Information integrity risks in AI systems can ...      0.312500   \n",
       "19  Establish policies and procedures that address...      1.000000   \n",
       "\n",
       "    answer_relevancy  context_recall  context_precision  answer_correctness  \n",
       "0           0.941003             1.0           1.000000            0.834859  \n",
       "1           0.978649             1.0           1.000000            0.635246  \n",
       "2           0.899814             1.0           1.000000            0.585370  \n",
       "3           0.979026             1.0           1.000000            0.579387  \n",
       "4           0.905790             1.0           1.000000            0.481002  \n",
       "5           1.000000             1.0           1.000000            0.638213  \n",
       "6           0.987392             1.0           1.000000            0.845114  \n",
       "7           1.000000             1.0           0.916667            0.982671  \n",
       "8           0.932752             1.0           1.000000            0.992155  \n",
       "9           1.000000             1.0           1.000000            0.993029  \n",
       "10          1.000000             1.0           1.000000            0.995715  \n",
       "11          0.997909             1.0           1.000000            0.987680  \n",
       "12          0.888039             1.0           1.000000            0.482071  \n",
       "13          0.936070             1.0           1.000000            0.830336  \n",
       "14          1.000000             1.0           1.000000            0.230453  \n",
       "15          0.992389             1.0           1.000000            0.485881  \n",
       "16          0.993913             1.0           1.000000            0.854106  \n",
       "17          0.925110             1.0           0.916667            0.995019  \n",
       "18          0.957536             1.0           1.000000            0.718132  \n",
       "19          0.911125             1.0           1.000000            0.524102  "
      ]
     },
     "execution_count": 124,
     "metadata": {},
     "output_type": "execute_result"
    }
   ],
   "source": [
    "base_results = evaluate(base_response_dataset, metrics)\n",
    "base_results_df = base_results.to_pandas()\n",
    "base_results_df"
   ]
  },
  {
   "cell_type": "code",
   "execution_count": 125,
   "metadata": {},
   "outputs": [
    {
     "data": {
      "text/plain": [
       "faithfulness          1.000000\n",
       "answer_relevancy      0.978838\n",
       "context_recall        1.000000\n",
       "context_precision     1.000000\n",
       "answer_correctness    0.774234\n",
       "dtype: float64"
      ]
     },
     "execution_count": 125,
     "metadata": {},
     "output_type": "execute_result"
    }
   ],
   "source": [
    "base_results_df.iloc[:,4:].median()"
   ]
  },
  {
   "cell_type": "code",
   "execution_count": 127,
   "metadata": {},
   "outputs": [
    {
     "data": {
      "text/plain": [
       "faithfulness          1.000000\n",
       "answer_relevancy      0.988384\n",
       "context_recall        1.000000\n",
       "context_precision     1.000000\n",
       "answer_correctness    0.747616\n",
       "dtype: float64"
      ]
     },
     "execution_count": 127,
     "metadata": {},
     "output_type": "execute_result"
    }
   ],
   "source": [
    "results_df.iloc[:,4:].median()"
   ]
  },
  {
   "cell_type": "markdown",
   "metadata": {},
   "source": [
    "Check out the specific metrics we'll be using in the Ragas documentation:\n",
    "\n",
    "- [Faithfulness](https://docs.ragas.io/en/stable/concepts/metrics/faithfulness.html)\n",
    "- [Answer Relevancy](https://docs.ragas.io/en/stable/concepts/metrics/answer_relevance.html)\n",
    "- [Context Precision](https://docs.ragas.io/en/stable/concepts/metrics/context_precision.html)\n",
    "- [Context Recall](https://docs.ragas.io/en/stable/concepts/metrics/context_recall.html)\n",
    "- [Answer Correctness](https://docs.ragas.io/en/stable/concepts/metrics/answer_correctness.html)"
   ]
  },
  {
   "cell_type": "code",
   "execution_count": 78,
   "metadata": {},
   "outputs": [],
   "source": [
    "def insert_line_breaks(text):\n",
    "    # Use string replace to replace every period followed by a space with a period and a line break\n",
    "    print (text.replace('. ', '.\\n'))"
   ]
  },
  {
   "cell_type": "code",
   "execution_count": 79,
   "metadata": {},
   "outputs": [
    {
     "name": "stdout",
     "output_type": "stream",
     "text": [
      "Vendor contracts can be reviewed by avoiding arbitrary or capricious termination clauses for critical GAI technologies or vendor services and by ensuring non-standard terms that may amplify or defer liability in unexpected ways are not included.\n",
      "Additionally, contracts should be scrutinized to prevent clauses that could contribute to unauthorized data collection by vendors or third-parties, such as secondary data use.\n"
     ]
    }
   ],
   "source": [
    "insert_line_breaks(results_df.iloc[8]['answer']) ## Lack of SLA in answer"
   ]
  },
  {
   "cell_type": "code",
   "execution_count": 80,
   "metadata": {},
   "outputs": [
    {
     "name": "stdout",
     "output_type": "stream",
     "text": [
      "Review vendor contracts to avoid arbitrary or capricious termination of critical GAI technologies or vendor services and non-standard terms that may amplify or defer liability in unexpected ways and/or contribute to unauthorized data collection by vendors or third-parties.\n",
      "Consider clear assignment of liability and responsibility for incidents, GAI system changes over time (e.g., fine-tuning, drift, decay); Request notification and disclosure for serious incidents arising from third-party data and systems; Service Level Agreements (SLAs) in vendor contracts that address incident response, response times, and availability of critical support.\n"
     ]
    }
   ],
   "source": [
    "insert_line_breaks(results_df.iloc[8]['ground_truth'])"
   ]
  },
  {
   "cell_type": "markdown",
   "metadata": {},
   "source": [
    "### Assess your pipeline using the RAGAS framework including key metrics faithfulness, answer relevancy, context precision, and context recall.  Provide a table of your output results."
   ]
  },
  {
   "cell_type": "markdown",
   "metadata": {},
   "source": [
    "### What conclusions can you draw about performance and effectiveness of your pipeline with this information?"
   ]
  },
  {
   "cell_type": "markdown",
   "metadata": {},
   "source": [
    "#### * Answer: While answer correctness (0.747) is lower, it suggests that despite the model retrieving the correct context and staying faithful to the source, there might be some issues in how the final answer is processed or interpreted. Precision and recall in context retrieval are both perfect, which suggests the problem lies not in the retrieval step, but in generating or interpreting the final answer. Increasing complexity or steps in the generation LLM could boost performance. "
   ]
  },
  {
   "cell_type": "markdown",
   "metadata": {},
   "source": [
    "## _______________________________"
   ]
  },
  {
   "cell_type": "markdown",
   "metadata": {},
   "source": [
    "## Task 4: Fine-Tuning Open-Source Embeddings: In Colab"
   ]
  },
  {
   "cell_type": "markdown",
   "metadata": {},
   "source": [
    "### Generate synthetic fine-tuning data and complete fine-tuning of the open-source embedding model"
   ]
  },
  {
   "cell_type": "markdown",
   "metadata": {},
   "source": [
    "aie4_midterm/Task4Midterm_Fine_tuning_Embedding_Models_for_RAG.ipynb"
   ]
  },
  {
   "cell_type": "markdown",
   "metadata": {},
   "source": [
    "#### Deliverables\n",
    "\n",
    " #### * Swap out your existing embedding model for the new fine-tuned version.  Provide a link to your fine-tuned embedding model on the Hugging Face Hub.\n",
    "\n",
    "##### * https://huggingface.co/northstaranlyticsma24/artic_ft_midterm\n",
    "\n",
    "#### * How did you choose the embedding model for this application?\n",
    "\n",
    "##### * "
   ]
  },
  {
   "cell_type": "markdown",
   "metadata": {},
   "source": [
    "pip install langchain_huggingface\n",
    "\n",
    "or I got around the error by simply getting back to LangChain 2.4."
   ]
  },
  {
   "cell_type": "markdown",
   "metadata": {},
   "source": [
    "## Task 5: Assessing Performance"
   ]
  },
  {
   "cell_type": "markdown",
   "metadata": {},
   "source": [
    "#### Test out new ft embedding model performance on RAG"
   ]
  },
  {
   "cell_type": "code",
   "execution_count": 98,
   "metadata": {},
   "outputs": [
    {
     "name": "stderr",
     "output_type": "stream",
     "text": [
      "/var/folders/x8/wjglcpw159l6zs25wq9nmd4h0000gn/T/ipykernel_22236/3312199883.py:2: LangChainDeprecationWarning: The class `HuggingFaceEmbeddings` was deprecated in LangChain 0.2.2 and will be removed in 1.0. An updated version of the class exists in the langchain-huggingface package and should be used instead. To use it run `pip install -U langchain-huggingface` and import as `from langchain_huggingface import HuggingFaceEmbeddings`.\n",
      "  huggingface_embeddings = HuggingFaceEmbeddings(model_name=\"northstaranlyticsma24/artic_ft_midterm\")\n",
      "Some weights of BertModel were not initialized from the model checkpoint at northstaranlyticsma24/artic_ft_midterm and are newly initialized: ['pooler.dense.bias', 'pooler.dense.weight']\n",
      "You should probably TRAIN this model on a down-stream task to be able to use it for predictions and inference.\n"
     ]
    }
   ],
   "source": [
    "from langchain.embeddings.huggingface import HuggingFaceEmbeddings\n",
    "huggingface_embeddings = HuggingFaceEmbeddings(model_name=\"northstaranlyticsma24/artic_ft_midterm\") ## 5 mins download yikes..."
   ]
  },
  {
   "cell_type": "code",
   "execution_count": 99,
   "metadata": {},
   "outputs": [],
   "source": [
    "vectorstore_ft = Qdrant.from_documents(\n",
    "    documents=sem_documents,\n",
    "    embedding=huggingface_embeddings,\n",
    "    location=\":memory:\",\n",
    "    collection_name=\"ft_snow_ai_policy\"\n",
    ")\n",
    "ft_emb_retriever = vectorstore_ft.as_retriever()"
   ]
  },
  {
   "cell_type": "code",
   "execution_count": 101,
   "metadata": {},
   "outputs": [],
   "source": [
    "ft_retrieval_augmented_qa_chain = (\n",
    "    # INVOKE CHAIN WITH: {\"question\" : \"<<SOME USER QUESTION>>\"}\n",
    "    # \"question\" : populated by getting the value of the \"question\" key\n",
    "    # \"context\"  : populated by getting the value of the \"question\" key and chaining it into the base_retriever\n",
    "    {\"context\": itemgetter(\"question\") | ft_emb_retriever, \"question\": itemgetter(\"question\")}\n",
    "    # \"context\"  : is assigned to a RunnablePassthrough object (will not be called or considered in the next step)\n",
    "    #              by getting the value of the \"context\" key from the previous step\n",
    "    | RunnablePassthrough.assign(context=itemgetter(\"context\"))\n",
    "    # \"response\" : the \"context\" and \"question\" values are used to format our prompt object and then piped\n",
    "    #              into the LLM and stored in a key called \"response\"\n",
    "    # \"context\"  : populated by getting the value of the \"context\" key from the previous step\n",
    "    | {\"response\": rag_prompt | llm, \"context\": itemgetter(\"context\")}\n",
    ")"
   ]
  },
  {
   "cell_type": "code",
   "execution_count": 103,
   "metadata": {},
   "outputs": [],
   "source": [
    "answers = []\n",
    "contexts = []\n",
    "\n",
    "for question in test_questions:\n",
    "  response = ft_retrieval_augmented_qa_chain.invoke({\"question\" : question})\n",
    "  answers.append(response[\"response\"].content)\n",
    "  contexts.append([context.page_content for context in response[\"context\"]])"
   ]
  },
  {
   "cell_type": "code",
   "execution_count": 104,
   "metadata": {},
   "outputs": [],
   "source": [
    "from datasets import Dataset\n",
    "\n",
    "response_dataset_1 = Dataset.from_dict({\n",
    "    \"question\" : test_questions,\n",
    "    \"answer\" : answers,\n",
    "    \"contexts\" : contexts,\n",
    "    \"ground_truth\" : test_groundtruths\n",
    "})"
   ]
  },
  {
   "cell_type": "code",
   "execution_count": 105,
   "metadata": {},
   "outputs": [
    {
     "data": {
      "text/plain": [
       "{'question': \"What was President Biden's response to the Supreme Court decision to overturn Roe v. Wade?\",\n",
       " 'answer': \"President Biden's response to the Supreme Court decision to overturn Roe v. Wade can be found in his remarks, which were made on June 24, 2022. The full text of his remarks is available at the following link: https://www.whitehouse.gov/briefing-room/speeches-remarks/2022/06/24/remarks-by-president-biden-on-the-supreme-court-decision-to-overturn-roe-v-wade/.\",\n",
       " 'contexts': [\"SECTION: ENDNOTES\\n \\n \\n \\n \\nENDNOTES\\n1.The Executive Order On Advancing Racial Equity and Support for Underserved Communities Through the\\nFederal\\xa0Government. https://www.whitehouse.gov/briefing-room/presidential-actions/2021/01/20/executive\\norder-advancing-racial-equity-and-support-for-underserved-communities-through-the-federal-government/\\n2. The White House. Remarks by President Biden on the Supreme Court Decision to Overturn Roe v. Wade. Jun. 24, 2022. https://www.whitehouse.gov/briefing-room/speeches-remarks/2022/06/24/remarks-by-president\\xad\\nbiden-on-the-supreme-court-decision-to-overturn-roe-v-wade/\\n3. The White House. Join the Effort to Create A Bill of Rights for an Automated Society. Nov. 10, 2021. https://\\nwww.whitehouse.gov/ostp/news-updates/2021/11/10/join-the-effort-to-create-a-bill-of-rights-for-an\\xad\\nautomated-society/\\n4. U.S. Dept. of Health, Educ. & Welfare, Report of the Sec’y’s Advisory Comm. on Automated Pers. Data Sys.,\\nRecords, Computers, and the Rights of Citizens (July 1973). https://www.justice.gov/opcl/docs/rec-com\\xad\\nrights.pdf. 5. See, e.g., Office of Mgmt. & Budget, Exec. Office of the President, Circular A-130, Managing Information as a\\nStrategic Resource, app. II §\\xa03 (July 28, 2016); Org. of Econ. Co-Operation & Dev., Revision of the\\nRecommendation of the Council Concerning Guidelines Governing the Protection of Privacy and Transborder\\nFlows of Personal Data, Annex Part Two (June 20, 2013). https://one.oecd.org/document/C(2013)79/en/pdf. 6. Andrew Wong et al. External validation of a widely implemented proprietary sepsis prediction model in\\nhospitalized patients. JAMA Intern Med. 2021; 181(8):1065-1070. doi:10.1001/jamainternmed.2021.2626\\n7. Jessica Guynn. Facebook while black: Users call it getting 'Zucked,' say talking about racism is censored as hate\\nspeech. USA Today. Apr. 24, 2019. https://www.usatoday.com/story/news/2019/04/24/facebook-while-black\\xad\\nzucked-users-say-they-get-blocked-racism-discussion/2859593002/\\n8. See, e.g., Michael Levitt. AirTags are being used to track people and cars. Here's what is being done about it. NPR. Feb. 18, 2022. https://www.npr.org/2022/02/18/1080944193/apple-airtags-theft-stalking-privacy-tech;\\nSamantha Cole. Police Records Show Women Are Being Stalked With Apple AirTags Across the Country. Motherboard.\",\n",
       "  'SECTION: ENDNOTES\\n \\n \\n \\nENDNOTES\\n75. See., e.g., Sam Sabin. Digital surveillance in a post-Roe world. Politico. May 5, 2022. https://\\nwww.politico.com/newsletters/digital-future-daily/2022/05/05/digital-surveillance-in-a-post-roe\\xad\\nworld-00030459; Federal Trade Commission. FTC Sues Kochava for Selling Data that Tracks People at\\nReproductive Health Clinics, Places of Worship, and Other Sensitive Locations. Aug. 29, 2022. https://\\nwww.ftc.gov/news-events/news/press-releases/2022/08/ftc-sues-kochava-selling-data-tracks-people\\xad\\nreproductive-health-clinics-places-worship-other\\n76. Todd Feathers. This Private Equity Firm Is Amassing Companies That Collect Data on America’s\\nChildren. The Markup.',\n",
       "  'SECTION: ENDNOTES\\n \\nENDNOTES\\n107. Centers for Medicare & Medicaid Services. Biden-Harris Administration Quadruples the Number\\nof Health Care Navigators Ahead of HealthCare.gov Open Enrollment Period. Aug. 27, 2021. https://www.cms.gov/newsroom/press-releases/biden-harris-administration-quadruples-number\\xad\\nhealth-care-navigators-ahead-healthcaregov-open\\n108. See, e.g., McKinsey & Company. The State of Customer Care in 2022. July 8, 2022. https://\\nwww.mckinsey.com/business-functions/operations/our-insights/the-state-of-customer-care-in-2022;\\nSara Angeles. Customer Service Solutions for Small Businesses. Business News Daily. Jun. 29, 2022. https://www.businessnewsdaily.com/7575-customer-service-solutions.html\\n109. Mike Hughes. Are We Getting The Best Out Of Our Bots? Co-Intelligence Between Robots &\\nHumans. Forbes. Jul. 14, 2022. https://www.forbes.com/sites/mikehughes1/2022/07/14/are-we-getting-the-best-out-of-our-bots-co\\xad\\nintelligence-between-robots--humans/?sh=16a2bd207395\\n110. Rachel Orey and Owen Bacskai. The Low Down on Ballot Curing. Nov. 04, 2020. https://\\nbipartisanpolicy.org/blog/the-low-down-on-ballot-curing/; Zahavah Levine and Thea Raymond-\\nSeidel. Mail Voting Litigation in 2020, Part IV: Verifying Mail Ballots. Oct. 29, 2020. https://www.lawfareblog.com/mail-voting-litigation-2020-part-iv-verifying-mail-ballots\\n111. National Conference of State Legislatures. Table 15: States With Signature Cure Processes. Jan. 18,\\n2022. https://www.ncsl.org/research/elections-and-campaigns/vopp-table-15-states-that-permit-voters-to\\xad\\ncorrect-signature-discrepancies.aspx\\n112. White House Office of Science and Technology Policy. Join the Effort to Create A Bill of Rights for\\nan Automated Society. Nov. 10, 2021. https://www.whitehouse.gov/ostp/news-updates/2021/11/10/join-the-effort-to-create-a-bill-of\\xad\\nrights-for-an-automated-society/\\n113. White House Office of Science and Technology Policy. Notice of Request for Information (RFI) on\\nPublic and Private Sector Uses of Biometric Technologies. Issued Oct. 8, 2021. https://www.federalregister.gov/documents/2021/10/08/2021-21975/notice-of-request-for\\xad\\ninformation-rfi-on-public-and-private-sector-uses-of-biometric-technologies\\n114. National Artificial Intelligence Initiative Office. Public Input on Public and Private Sector Uses of\\nBiometric Technologies. Accessed Apr.',\n",
       "  'J. Med.874, 876-78 (Aug. 27, 2020), https://www.nejm.org/doi/full/10.1056/\\nNEJMms2004740.'],\n",
       " 'ground_truth': 'Remarks by President Biden on the Supreme Court Decision to Overturn Roe v. Wade can be found on the White House website at the provided link.'}"
      ]
     },
     "execution_count": 105,
     "metadata": {},
     "output_type": "execute_result"
    }
   ],
   "source": [
    "response_dataset_1[0]"
   ]
  },
  {
   "cell_type": "markdown",
   "metadata": {},
   "source": [
    "### Evaluate our Pipeline with Ragas"
   ]
  },
  {
   "cell_type": "code",
   "execution_count": 107,
   "metadata": {},
   "outputs": [],
   "source": [
    "from ragas import evaluate\n",
    "from ragas.metrics import (\n",
    "    faithfulness,\n",
    "    answer_relevancy,\n",
    "    answer_correctness,\n",
    "    context_recall,\n",
    "    context_precision,\n",
    ")\n",
    "\n",
    "metrics = [\n",
    "    faithfulness,\n",
    "    answer_relevancy,\n",
    "    context_recall,\n",
    "    context_precision,\n",
    "    answer_correctness,\n",
    "]"
   ]
  },
  {
   "cell_type": "code",
   "execution_count": 108,
   "metadata": {},
   "outputs": [
    {
     "name": "stderr",
     "output_type": "stream",
     "text": [
      "Evaluating: 100%|██████████| 100/100 [01:02<00:00,  1.59it/s]\n"
     ]
    }
   ],
   "source": [
    "results = evaluate(response_dataset_1, metrics)"
   ]
  },
  {
   "cell_type": "code",
   "execution_count": 109,
   "metadata": {},
   "outputs": [
    {
     "data": {
      "text/html": [
       "<div>\n",
       "<style scoped>\n",
       "    .dataframe tbody tr th:only-of-type {\n",
       "        vertical-align: middle;\n",
       "    }\n",
       "\n",
       "    .dataframe tbody tr th {\n",
       "        vertical-align: top;\n",
       "    }\n",
       "\n",
       "    .dataframe thead th {\n",
       "        text-align: right;\n",
       "    }\n",
       "</style>\n",
       "<table border=\"1\" class=\"dataframe\">\n",
       "  <thead>\n",
       "    <tr style=\"text-align: right;\">\n",
       "      <th></th>\n",
       "      <th>question</th>\n",
       "      <th>contexts</th>\n",
       "      <th>answer</th>\n",
       "      <th>ground_truth</th>\n",
       "      <th>faithfulness</th>\n",
       "      <th>answer_relevancy</th>\n",
       "      <th>context_recall</th>\n",
       "      <th>context_precision</th>\n",
       "      <th>answer_correctness</th>\n",
       "    </tr>\n",
       "  </thead>\n",
       "  <tbody>\n",
       "    <tr>\n",
       "      <th>0</th>\n",
       "      <td>What was President Biden's response to the Sup...</td>\n",
       "      <td>[SECTION: ENDNOTES\\n \\n \\n \\n \\nENDNOTES\\n1.Th...</td>\n",
       "      <td>President Biden's response to the Supreme Cour...</td>\n",
       "      <td>Remarks by President Biden on the Supreme Cour...</td>\n",
       "      <td>1.000000</td>\n",
       "      <td>0.941003</td>\n",
       "      <td>1.000000</td>\n",
       "      <td>1.000000</td>\n",
       "      <td>0.986582</td>\n",
       "    </tr>\n",
       "    <tr>\n",
       "      <th>1</th>\n",
       "      <td>What information should be included in regular...</td>\n",
       "      <td>[SECTION: NOTICE AND EXPLANATION\\n \\nYou shoul...</td>\n",
       "      <td>Regularly-updated reports for entities respons...</td>\n",
       "      <td>Regularly-updated reports for entities respons...</td>\n",
       "      <td>1.000000</td>\n",
       "      <td>0.978649</td>\n",
       "      <td>1.000000</td>\n",
       "      <td>1.000000</td>\n",
       "      <td>0.816293</td>\n",
       "    </tr>\n",
       "    <tr>\n",
       "      <th>2</th>\n",
       "      <td>How is systemic bias evaluated and documented ...</td>\n",
       "      <td>[ \\nBias exists in many forms and can become i...</td>\n",
       "      <td>Systemic bias in the context of GAI (General A...</td>\n",
       "      <td>Systemic bias in GAI systems is evaluated and ...</td>\n",
       "      <td>1.000000</td>\n",
       "      <td>0.900467</td>\n",
       "      <td>0.000000</td>\n",
       "      <td>0.805556</td>\n",
       "      <td>0.643216</td>\n",
       "    </tr>\n",
       "    <tr>\n",
       "      <th>3</th>\n",
       "      <td>How do text-to-image models make it easy to cr...</td>\n",
       "      <td>[Text-to-image models also make it easy to cre...</td>\n",
       "      <td>Text-to-image models make it easy to create im...</td>\n",
       "      <td>Text-to-image models make it easy to create im...</td>\n",
       "      <td>1.000000</td>\n",
       "      <td>0.944609</td>\n",
       "      <td>1.000000</td>\n",
       "      <td>1.000000</td>\n",
       "      <td>0.788668</td>\n",
       "    </tr>\n",
       "    <tr>\n",
       "      <th>4</th>\n",
       "      <td>How is systemic bias evaluated and documented ...</td>\n",
       "      <td>[ \\nBias exists in many forms and can become i...</td>\n",
       "      <td>Systemic bias in GAI systems is evaluated and ...</td>\n",
       "      <td>Systemic bias in GAI systems is evaluated and ...</td>\n",
       "      <td>1.000000</td>\n",
       "      <td>0.989375</td>\n",
       "      <td>0.000000</td>\n",
       "      <td>0.805556</td>\n",
       "      <td>0.580120</td>\n",
       "    </tr>\n",
       "    <tr>\n",
       "      <th>5</th>\n",
       "      <td>What metrics can be used to reflect the effect...</td>\n",
       "      <td>[CBRN Information or Capabilities; \\nInformati...</td>\n",
       "      <td>The metrics that can be used to reflect the ef...</td>\n",
       "      <td>Identify metrics that reflect the effectivenes...</td>\n",
       "      <td>1.000000</td>\n",
       "      <td>1.000000</td>\n",
       "      <td>1.000000</td>\n",
       "      <td>1.000000</td>\n",
       "      <td>0.986636</td>\n",
       "    </tr>\n",
       "    <tr>\n",
       "      <th>6</th>\n",
       "      <td>How do intellectual property risks arise from ...</td>\n",
       "      <td>[ \\nIntellectual property risks from GAI syste...</td>\n",
       "      <td>Intellectual property risks from GAI systems i...</td>\n",
       "      <td>Intellectual property risks from GAI systems m...</td>\n",
       "      <td>1.000000</td>\n",
       "      <td>0.987392</td>\n",
       "      <td>0.750000</td>\n",
       "      <td>0.805556</td>\n",
       "      <td>0.889606</td>\n",
       "    </tr>\n",
       "    <tr>\n",
       "      <th>7</th>\n",
       "      <td>What organizations were involved in the meetin...</td>\n",
       "      <td>[SECTION: LISTENING TO THE AMERICAN PEOPLE\\nAP...</td>\n",
       "      <td>The meetings conducted by the Office of Scienc...</td>\n",
       "      <td>Adobe, American Civil Liberties Union (ACLU), ...</td>\n",
       "      <td>0.600000</td>\n",
       "      <td>0.991257</td>\n",
       "      <td>1.000000</td>\n",
       "      <td>1.000000</td>\n",
       "      <td>0.218192</td>\n",
       "    </tr>\n",
       "    <tr>\n",
       "      <th>8</th>\n",
       "      <td>How can vendor contracts be reviewed to avoid ...</td>\n",
       "      <td>[Consider: Clear \\nassignment of liability and...</td>\n",
       "      <td>To review vendor contracts in a way that avoid...</td>\n",
       "      <td>Review vendor contracts to avoid arbitrary or ...</td>\n",
       "      <td>0.533333</td>\n",
       "      <td>0.967781</td>\n",
       "      <td>1.000000</td>\n",
       "      <td>1.000000</td>\n",
       "      <td>0.781875</td>\n",
       "    </tr>\n",
       "    <tr>\n",
       "      <th>9</th>\n",
       "      <td>What are some examples of automated systems th...</td>\n",
       "      <td>[SECTION: APPENDIX: EXAMPLES OF AUTOMATED SYST...</td>\n",
       "      <td>Examples of automated systems that impact the ...</td>\n",
       "      <td>Automated systems that impact the safety of co...</td>\n",
       "      <td>1.000000</td>\n",
       "      <td>1.000000</td>\n",
       "      <td>1.000000</td>\n",
       "      <td>1.000000</td>\n",
       "      <td>0.993067</td>\n",
       "    </tr>\n",
       "    <tr>\n",
       "      <th>10</th>\n",
       "      <td>How can automated systems prevent discriminati...</td>\n",
       "      <td>[SECTION: ALGORITHMIC DISCRIMINATION PROTECTIO...</td>\n",
       "      <td>Automated systems can prevent discrimination a...</td>\n",
       "      <td>Automated systems can prevent discrimination a...</td>\n",
       "      <td>0.843750</td>\n",
       "      <td>1.000000</td>\n",
       "      <td>1.000000</td>\n",
       "      <td>1.000000</td>\n",
       "      <td>0.540540</td>\n",
       "    </tr>\n",
       "    <tr>\n",
       "      <th>11</th>\n",
       "      <td>How do interdisciplinary teams impact risk mea...</td>\n",
       "      <td>[ \\nIn the context of the AI RMF, risk refers ...</td>\n",
       "      <td>Interdisciplinary teams impact risk measuremen...</td>\n",
       "      <td>Establishing and empowering interdisciplinary ...</td>\n",
       "      <td>0.631579</td>\n",
       "      <td>0.997909</td>\n",
       "      <td>1.000000</td>\n",
       "      <td>1.000000</td>\n",
       "      <td>0.755258</td>\n",
       "    </tr>\n",
       "    <tr>\n",
       "      <th>12</th>\n",
       "      <td>Where can the AI Risk Management Framework be ...</td>\n",
       "      <td>[https://www.rand.org/pubs/research_reports/RR...</td>\n",
       "      <td>The AI Risk Management Framework can be source...</td>\n",
       "      <td>The AI Risk Management Framework can be source...</td>\n",
       "      <td>1.000000</td>\n",
       "      <td>1.000000</td>\n",
       "      <td>1.000000</td>\n",
       "      <td>1.000000</td>\n",
       "      <td>0.733705</td>\n",
       "    </tr>\n",
       "    <tr>\n",
       "      <th>13</th>\n",
       "      <td>How do generative tasks in GAI systems compare...</td>\n",
       "      <td>[ \\nTraining, maintaining, and operating (runn...</td>\n",
       "      <td>Generative tasks in GAI systems are more energ...</td>\n",
       "      <td>Generative tasks in GAI systems, such as text ...</td>\n",
       "      <td>1.000000</td>\n",
       "      <td>0.972186</td>\n",
       "      <td>0.400000</td>\n",
       "      <td>1.000000</td>\n",
       "      <td>0.628703</td>\n",
       "    </tr>\n",
       "    <tr>\n",
       "      <th>14</th>\n",
       "      <td>Who contributed ideas for the AI Bill of Rights?</td>\n",
       "      <td>[SECTION: LISTENING TO THE AMERICAN PEOPLE\\nAP...</td>\n",
       "      <td>A variety of stakeholders in the private secto...</td>\n",
       "      <td>Adobe, American Civil Liberties Union (ACLU), ...</td>\n",
       "      <td>1.000000</td>\n",
       "      <td>1.000000</td>\n",
       "      <td>1.000000</td>\n",
       "      <td>1.000000</td>\n",
       "      <td>0.210846</td>\n",
       "    </tr>\n",
       "    <tr>\n",
       "      <th>15</th>\n",
       "      <td>How could generative AI affect disinformation ...</td>\n",
       "      <td>[https://arxiv.org/abs/2401.01301 \\n \\n55 \\nDe...</td>\n",
       "      <td>Generative AI can significantly impact disinfo...</td>\n",
       "      <td>Generative AI systems could ease the unintenti...</td>\n",
       "      <td>1.000000</td>\n",
       "      <td>0.993590</td>\n",
       "      <td>0.500000</td>\n",
       "      <td>0.638889</td>\n",
       "      <td>0.663431</td>\n",
       "    </tr>\n",
       "    <tr>\n",
       "      <th>16</th>\n",
       "      <td>What factors are key for effective fallback sy...</td>\n",
       "      <td>[Effective. The organizational structure surro...</td>\n",
       "      <td>Key factors for the effective operation of a f...</td>\n",
       "      <td>The factors key for effective fallback system ...</td>\n",
       "      <td>1.000000</td>\n",
       "      <td>0.987202</td>\n",
       "      <td>0.909091</td>\n",
       "      <td>1.000000</td>\n",
       "      <td>0.580913</td>\n",
       "    </tr>\n",
       "    <tr>\n",
       "      <th>17</th>\n",
       "      <td>How does the government tackle mortgage lendin...</td>\n",
       "      <td>[SECTION: ALGORITHMIC DISCRIMINATION PROTECTIO...</td>\n",
       "      <td>The government tackles mortgage lending discri...</td>\n",
       "      <td>The federal government is working to combat di...</td>\n",
       "      <td>0.600000</td>\n",
       "      <td>0.935923</td>\n",
       "      <td>1.000000</td>\n",
       "      <td>0.916667</td>\n",
       "      <td>0.991128</td>\n",
       "    </tr>\n",
       "    <tr>\n",
       "      <th>18</th>\n",
       "      <td>How can information integrity risks in AI syst...</td>\n",
       "      <td>[Merely \\nquerying a closed production model c...</td>\n",
       "      <td>Information integrity risks in AI systems can ...</td>\n",
       "      <td>Information integrity risks in AI systems can ...</td>\n",
       "      <td>0.900000</td>\n",
       "      <td>0.939538</td>\n",
       "      <td>1.000000</td>\n",
       "      <td>1.000000</td>\n",
       "      <td>0.532821</td>\n",
       "    </tr>\n",
       "    <tr>\n",
       "      <th>19</th>\n",
       "      <td>What steps are needed for improving GAI risk m...</td>\n",
       "      <td>[Address general risks associated with a lack ...</td>\n",
       "      <td>To improve GAI risk measurement, including doc...</td>\n",
       "      <td>Establish policies and procedures that address...</td>\n",
       "      <td>0.727273</td>\n",
       "      <td>0.950554</td>\n",
       "      <td>1.000000</td>\n",
       "      <td>1.000000</td>\n",
       "      <td>0.453516</td>\n",
       "    </tr>\n",
       "  </tbody>\n",
       "</table>\n",
       "</div>"
      ],
      "text/plain": [
       "                                             question  \\\n",
       "0   What was President Biden's response to the Sup...   \n",
       "1   What information should be included in regular...   \n",
       "2   How is systemic bias evaluated and documented ...   \n",
       "3   How do text-to-image models make it easy to cr...   \n",
       "4   How is systemic bias evaluated and documented ...   \n",
       "5   What metrics can be used to reflect the effect...   \n",
       "6   How do intellectual property risks arise from ...   \n",
       "7   What organizations were involved in the meetin...   \n",
       "8   How can vendor contracts be reviewed to avoid ...   \n",
       "9   What are some examples of automated systems th...   \n",
       "10  How can automated systems prevent discriminati...   \n",
       "11  How do interdisciplinary teams impact risk mea...   \n",
       "12  Where can the AI Risk Management Framework be ...   \n",
       "13  How do generative tasks in GAI systems compare...   \n",
       "14   Who contributed ideas for the AI Bill of Rights?   \n",
       "15  How could generative AI affect disinformation ...   \n",
       "16  What factors are key for effective fallback sy...   \n",
       "17  How does the government tackle mortgage lendin...   \n",
       "18  How can information integrity risks in AI syst...   \n",
       "19  What steps are needed for improving GAI risk m...   \n",
       "\n",
       "                                             contexts  \\\n",
       "0   [SECTION: ENDNOTES\\n \\n \\n \\n \\nENDNOTES\\n1.Th...   \n",
       "1   [SECTION: NOTICE AND EXPLANATION\\n \\nYou shoul...   \n",
       "2   [ \\nBias exists in many forms and can become i...   \n",
       "3   [Text-to-image models also make it easy to cre...   \n",
       "4   [ \\nBias exists in many forms and can become i...   \n",
       "5   [CBRN Information or Capabilities; \\nInformati...   \n",
       "6   [ \\nIntellectual property risks from GAI syste...   \n",
       "7   [SECTION: LISTENING TO THE AMERICAN PEOPLE\\nAP...   \n",
       "8   [Consider: Clear \\nassignment of liability and...   \n",
       "9   [SECTION: APPENDIX: EXAMPLES OF AUTOMATED SYST...   \n",
       "10  [SECTION: ALGORITHMIC DISCRIMINATION PROTECTIO...   \n",
       "11  [ \\nIn the context of the AI RMF, risk refers ...   \n",
       "12  [https://www.rand.org/pubs/research_reports/RR...   \n",
       "13  [ \\nTraining, maintaining, and operating (runn...   \n",
       "14  [SECTION: LISTENING TO THE AMERICAN PEOPLE\\nAP...   \n",
       "15  [https://arxiv.org/abs/2401.01301 \\n \\n55 \\nDe...   \n",
       "16  [Effective. The organizational structure surro...   \n",
       "17  [SECTION: ALGORITHMIC DISCRIMINATION PROTECTIO...   \n",
       "18  [Merely \\nquerying a closed production model c...   \n",
       "19  [Address general risks associated with a lack ...   \n",
       "\n",
       "                                               answer  \\\n",
       "0   President Biden's response to the Supreme Cour...   \n",
       "1   Regularly-updated reports for entities respons...   \n",
       "2   Systemic bias in the context of GAI (General A...   \n",
       "3   Text-to-image models make it easy to create im...   \n",
       "4   Systemic bias in GAI systems is evaluated and ...   \n",
       "5   The metrics that can be used to reflect the ef...   \n",
       "6   Intellectual property risks from GAI systems i...   \n",
       "7   The meetings conducted by the Office of Scienc...   \n",
       "8   To review vendor contracts in a way that avoid...   \n",
       "9   Examples of automated systems that impact the ...   \n",
       "10  Automated systems can prevent discrimination a...   \n",
       "11  Interdisciplinary teams impact risk measuremen...   \n",
       "12  The AI Risk Management Framework can be source...   \n",
       "13  Generative tasks in GAI systems are more energ...   \n",
       "14  A variety of stakeholders in the private secto...   \n",
       "15  Generative AI can significantly impact disinfo...   \n",
       "16  Key factors for the effective operation of a f...   \n",
       "17  The government tackles mortgage lending discri...   \n",
       "18  Information integrity risks in AI systems can ...   \n",
       "19  To improve GAI risk measurement, including doc...   \n",
       "\n",
       "                                         ground_truth  faithfulness  \\\n",
       "0   Remarks by President Biden on the Supreme Cour...      1.000000   \n",
       "1   Regularly-updated reports for entities respons...      1.000000   \n",
       "2   Systemic bias in GAI systems is evaluated and ...      1.000000   \n",
       "3   Text-to-image models make it easy to create im...      1.000000   \n",
       "4   Systemic bias in GAI systems is evaluated and ...      1.000000   \n",
       "5   Identify metrics that reflect the effectivenes...      1.000000   \n",
       "6   Intellectual property risks from GAI systems m...      1.000000   \n",
       "7   Adobe, American Civil Liberties Union (ACLU), ...      0.600000   \n",
       "8   Review vendor contracts to avoid arbitrary or ...      0.533333   \n",
       "9   Automated systems that impact the safety of co...      1.000000   \n",
       "10  Automated systems can prevent discrimination a...      0.843750   \n",
       "11  Establishing and empowering interdisciplinary ...      0.631579   \n",
       "12  The AI Risk Management Framework can be source...      1.000000   \n",
       "13  Generative tasks in GAI systems, such as text ...      1.000000   \n",
       "14  Adobe, American Civil Liberties Union (ACLU), ...      1.000000   \n",
       "15  Generative AI systems could ease the unintenti...      1.000000   \n",
       "16  The factors key for effective fallback system ...      1.000000   \n",
       "17  The federal government is working to combat di...      0.600000   \n",
       "18  Information integrity risks in AI systems can ...      0.900000   \n",
       "19  Establish policies and procedures that address...      0.727273   \n",
       "\n",
       "    answer_relevancy  context_recall  context_precision  answer_correctness  \n",
       "0           0.941003        1.000000           1.000000            0.986582  \n",
       "1           0.978649        1.000000           1.000000            0.816293  \n",
       "2           0.900467        0.000000           0.805556            0.643216  \n",
       "3           0.944609        1.000000           1.000000            0.788668  \n",
       "4           0.989375        0.000000           0.805556            0.580120  \n",
       "5           1.000000        1.000000           1.000000            0.986636  \n",
       "6           0.987392        0.750000           0.805556            0.889606  \n",
       "7           0.991257        1.000000           1.000000            0.218192  \n",
       "8           0.967781        1.000000           1.000000            0.781875  \n",
       "9           1.000000        1.000000           1.000000            0.993067  \n",
       "10          1.000000        1.000000           1.000000            0.540540  \n",
       "11          0.997909        1.000000           1.000000            0.755258  \n",
       "12          1.000000        1.000000           1.000000            0.733705  \n",
       "13          0.972186        0.400000           1.000000            0.628703  \n",
       "14          1.000000        1.000000           1.000000            0.210846  \n",
       "15          0.993590        0.500000           0.638889            0.663431  \n",
       "16          0.987202        0.909091           1.000000            0.580913  \n",
       "17          0.935923        1.000000           0.916667            0.991128  \n",
       "18          0.939538        1.000000           1.000000            0.532821  \n",
       "19          0.950554        1.000000           1.000000            0.453516  "
      ]
     },
     "execution_count": 109,
     "metadata": {},
     "output_type": "execute_result"
    }
   ],
   "source": [
    "results_df_ft = results.to_pandas()\n",
    "results_df_ft"
   ]
  },
  {
   "cell_type": "code",
   "execution_count": 116,
   "metadata": {},
   "outputs": [
    {
     "data": {
      "text/plain": [
       "'A variety of stakeholders in the private sector and civil society contributed ideas for the AI Bill of Rights.'"
      ]
     },
     "execution_count": 116,
     "metadata": {},
     "output_type": "execute_result"
    }
   ],
   "source": [
    "results_df_ft.iloc[14]['answer']"
   ]
  },
  {
   "cell_type": "code",
   "execution_count": 117,
   "metadata": {},
   "outputs": [
    {
     "data": {
      "text/plain": [
       "\"Adobe, American Civil Liberties Union (ACLU), The Aspen Commission on Information Disorder, The Awood Center, The Australian Human Rights Commission, Biometrics Institute, The Brookings Institute, BSA | The Software Alliance, Cantellus Group, Center for American Progress, Center for Democracy and Technology, Center on Privacy and Technology at Georgetown Law, Christiana Care, Color of Change, Coworker, Data Robot, Data Trust Alliance, Data and Society Research Institute, Deepmind, EdSAFE AI Alliance, Electronic Privacy Information Center (EPIC), Encode Justice, Equal AI, Google, Hitachi's AI Policy Committee, The Innocence Project, Institute of Electrical and Electronics Engineers (IEEE), Intuit, Lawyers Committee for Civil Rights Under Law, Legal Aid Society, The Leadership Conference on Civil and Human Rights, Meta, Microsoft, The MIT AI Policy Forum, Movement Alliance Project, The National Association of Criminal Defense Lawyers, O'Neil Risk Consulting & Algorithmic Auditing, The Partnership on AI, Pinterest, The Plaintext Group, pymetrics, SAP, The Security Industry Association, Software and Information Industry Association (SIIA), Special Competitive Studies Project, Thorn, United for Respect, University of California at Berkeley Citris Policy Lab, University of California at Berkeley Labor Center, Unfinished/Project Liberty, Upturn, US Chamber of Commerce, US Chamber of Commerce Technology Engagement Center, A.I. Working Group, Vibrent Health, Warehouse Worker Resource Center, Waymap\""
      ]
     },
     "execution_count": 117,
     "metadata": {},
     "output_type": "execute_result"
    }
   ],
   "source": [
    "results_df_ft.iloc[14]['ground_truth']"
   ]
  },
  {
   "cell_type": "markdown",
   "metadata": {},
   "source": [
    "#### Base Chunk RAG "
   ]
  },
  {
   "cell_type": "code",
   "execution_count": 128,
   "metadata": {},
   "outputs": [
    {
     "data": {
      "text/plain": [
       "faithfulness          1.000000\n",
       "answer_relevancy      0.978838\n",
       "context_recall        1.000000\n",
       "context_precision     1.000000\n",
       "answer_correctness    0.774234\n",
       "dtype: float64"
      ]
     },
     "execution_count": 128,
     "metadata": {},
     "output_type": "execute_result"
    }
   ],
   "source": [
    "base_results_df.iloc[:,4:].median()"
   ]
  },
  {
   "cell_type": "markdown",
   "metadata": {},
   "source": [
    "#### Section + Semnatic Chunk "
   ]
  },
  {
   "cell_type": "code",
   "execution_count": 110,
   "metadata": {},
   "outputs": [
    {
     "data": {
      "text/plain": [
       "faithfulness          1.000000\n",
       "answer_relevancy      0.988384\n",
       "context_recall        1.000000\n",
       "context_precision     1.000000\n",
       "answer_correctness    0.747616\n",
       "dtype: float64"
      ]
     },
     "execution_count": 110,
     "metadata": {},
     "output_type": "execute_result"
    }
   ],
   "source": [
    "results_df.iloc[:,4:].median()"
   ]
  },
  {
   "cell_type": "markdown",
   "metadata": {},
   "source": [
    "#### Section & Semnatic Chunk + Ft Artic Emb model "
   ]
  },
  {
   "cell_type": "code",
   "execution_count": 111,
   "metadata": {},
   "outputs": [
    {
     "data": {
      "text/plain": [
       "faithfulness          1.000000\n",
       "answer_relevancy      0.987297\n",
       "context_recall        1.000000\n",
       "context_precision     1.000000\n",
       "answer_correctness    0.698568\n",
       "dtype: float64"
      ]
     },
     "execution_count": 111,
     "metadata": {},
     "output_type": "execute_result"
    }
   ],
   "source": [
    "results_df_ft.iloc[:,4:].median()"
   ]
  }
 ],
 "metadata": {
  "kernelspec": {
   "display_name": "llmops-course",
   "language": "python",
   "name": "python3"
  },
  "language_info": {
   "codemirror_mode": {
    "name": "ipython",
    "version": 3
   },
   "file_extension": ".py",
   "mimetype": "text/x-python",
   "name": "python",
   "nbconvert_exporter": "python",
   "pygments_lexer": "ipython3",
   "version": "3.11.10"
  }
 },
 "nbformat": 4,
 "nbformat_minor": 2
}
